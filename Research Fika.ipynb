{
 "cells": [
  {
   "cell_type": "raw",
   "metadata": {
    "slideshow": {
     "slide_type": "-"
    }
   },
   "source": [
    "<style type=\"text/css\">\n",
    ".input_prompt, .input_area, .output_prompt {\n",
    "    display:none !important;\n",
    "}\n",
    "</style>"
   ]
  },
  {
   "cell_type": "code",
   "execution_count": null,
   "metadata": {
    "collapsed": false
   },
   "outputs": [],
   "source": [
    "import numpy as np\n",
    "import matplotlib.pyplot as plt\n",
    "import matplotlib as mpl\n",
    "import mpld3\n",
    "from scipy.fftpack import fft, fftfreq\n",
    "mpl.style.use('solarized')"
   ]
  },
  {
   "cell_type": "markdown",
   "metadata": {
    "slideshow": {
     "slide_type": "-"
    }
   },
   "source": [
    "# Parametric Audio Loudspeaker"
   ]
  },
  {
   "cell_type": "markdown",
   "metadata": {
    "slideshow": {
     "slide_type": "slide"
    }
   },
   "source": [
    "## Why parametric audio?"
   ]
  },
  {
   "cell_type": "markdown",
   "metadata": {
    "slideshow": {
     "slide_type": "fragment"
    }
   },
   "source": [
    "\n",
    "\n",
    "Panel Array Loudspeaker | Parametric Loudspeaker\n",
    "-----------------------  | ---------------------\n",
    "<img src=\"Presentation/fieldPanel.png\" style=\"width: 250px;\"/> | <img src=\"Presentation/fieldParametric.png\" style=\"width: 250px;\"/>\n"
   ]
  },
  {
   "cell_type": "markdown",
   "metadata": {
    "slideshow": {
     "slide_type": "skip"
    }
   },
   "source": [
    "### Simplified Equation"
   ]
  },
  {
   "cell_type": "markdown",
   "metadata": {
    "slideshow": {
     "slide_type": "fragment"
    }
   },
   "source": [
    "Khokhlov, Zabolotskaya, and Kuznetsov ~ 1970"
   ]
  },
  {
   "cell_type": "markdown",
   "metadata": {
    "slideshow": {
     "slide_type": "-"
    }
   },
   "source": [
    "$$\n",
    "\\frac{\\partial^2 p}{\\partial z \\partial \\tau} \n",
    "= \n",
    "\\frac{c_0}{2} \\nabla_r^2 p\n",
    "+\n",
    "\\frac{\\delta}{2c_0^3} \\frac{\\partial^3 p}{\\partial\\tau^3}\n",
    "+\n",
    "\\frac{\\beta}{2\\rho_0 c_0^3} \\frac{\\partial^2 p^2}{\\partial\\tau^2}\n",
    "$$"
   ]
  },
  {
   "cell_type": "markdown",
   "metadata": {
    "slideshow": {
     "slide_type": "slide"
    }
   },
   "source": [
    "### Amplitude Modulation"
   ]
  },
  {
   "cell_type": "markdown",
   "metadata": {
    "slideshow": {
     "slide_type": "-"
    }
   },
   "source": [
    "$\\begin{align}\n",
    "p(t) = E(t) \\sin(\\omega_c t)\n",
    "\\end{align}$"
   ]
  },
  {
   "cell_type": "markdown",
   "metadata": {
    "slideshow": {
     "slide_type": "fragment"
    }
   },
   "source": [
    "$\\begin{align}\n",
    "p_{aud} \\propto \\frac{d^2}{dt^2} E^2(t)\n",
    "\\end{align}$"
   ]
  },
  {
   "cell_type": "markdown",
   "metadata": {
    "slideshow": {
     "slide_type": "fragment"
    }
   },
   "source": [
    "$\\begin{align} \n",
    "E(t) = \\sqrt{1+\\iint s(t)dt^2} \n",
    "\\end{align}$"
   ]
  },
  {
   "cell_type": "markdown",
   "metadata": {
    "slideshow": {
     "slide_type": "subslide"
    }
   },
   "source": [
    "### Sidebands"
   ]
  },
  {
   "cell_type": "code",
   "execution_count": null,
   "metadata": {
    "collapsed": false,
    "slideshow": {
     "slide_type": "-"
    }
   },
   "outputs": [],
   "source": [
    "f0=1e3\n",
    "fc=40e3\n",
    "fs=192e3\n",
    "periods = 100\n",
    "nsamples = np.ceil(periods*fs/f0).astype('int')\n",
    "#nsamples = (2**np.ceil(np.log2(nsamples))).astype('int')\n",
    "t=np.arange(nsamples)/fs\n",
    "\n",
    "carrier = np.sin(2*np.pi*t*fc)\n",
    "audio = np.sin(2*np.pi*t*f0)\n",
    "envelope = np.sqrt(1+audio)\n",
    "#envelope = 1\n",
    "ultrasound = envelope*carrier\n",
    "\n",
    "ultraspectrum = fft(ultrasound)\n",
    "f = fftfreq(nsamples,1/fs)\n",
    "\n",
    "fidx = (f>0) & (f<fs/2)\n",
    "\n",
    "plt.plot(f[fidx],20*np.log10(np.abs(ultraspectrum[fidx])))\n",
    "plt.ylim(-20,80)\n",
    "plt.xlabel('Frequency in Hz')\n",
    "plt.ylabel('Pressure in dB')\n",
    "mpld3.display()\n",
    "#plt.show()\n"
   ]
  },
  {
   "cell_type": "markdown",
   "metadata": {
    "slideshow": {
     "slide_type": "slide"
    }
   },
   "source": [
    "## Nonlinear Identification"
   ]
  },
  {
   "cell_type": "markdown",
   "metadata": {
    "slideshow": {
     "slide_type": "fragment"
    }
   },
   "source": [
    "### Volterra Series\n",
    "$\\begin{align}\n",
    "y(t) = \\sum_{n=1}^\\infty \\int \\ldots \\int \n",
    "h_n(\\tau_1,\\ldots,\\tau_n) \n",
    "\\prod_{j=1}^n x(t-\\tau_j) d\\tau_j\n",
    "\\end{align}$"
   ]
  },
  {
   "cell_type": "markdown",
   "metadata": {
    "slideshow": {
     "slide_type": "fragment"
    }
   },
   "source": [
    "### Hammerstein System\n",
    "<img src=\"Presentation/hammerstein.pdf\" style=\"width: 600px;\"/>\n",
    "$\\begin{align}\n",
    "y(t) = \\int h(t-\\tau)\\, m(x(\\tau)) \\, d\\tau\n",
    "\\end{align}$"
   ]
  },
  {
   "cell_type": "markdown",
   "metadata": {
    "slideshow": {
     "slide_type": "fragment"
    }
   },
   "source": [
    "### Weiner System\n",
    "<img src=\"Presentation/weiner.pdf\" style=\"width: 600px;\"/>\n",
    "\n",
    "$\\begin{align}\n",
    "y(t) = m\\left( \\int h(t-\\tau)\\, x(\\tau) \\, d\\tau \\right) \n",
    "\\end{align}$\n"
   ]
  },
  {
   "cell_type": "markdown",
   "metadata": {
    "slideshow": {
     "slide_type": "subslide"
    }
   },
   "source": [
    "### Approximation"
   ]
  },
  {
   "cell_type": "code",
   "execution_count": null,
   "metadata": {
    "collapsed": false
   },
   "outputs": [],
   "source": [
    "from nonlinear import hammersteinApproximation as hammerstein\n",
    "from nonlinear import weinerApproximation as weiner\n",
    "from scipy.interpolate import interp1d\n",
    "nsamples = 2**12\n",
    "noiselevel = 0.25\n",
    "\n",
    "def m(u):\n",
    "    #return (1-np.exp(-np.abs(u)))*np.sign(u)\n",
    "    return u**2\n",
    "m = np.vectorize(m)\n",
    "    \n",
    "def lbda(n):\n",
    "    if n < 0:\n",
    "        return 0.0\n",
    "    elif n > 1000:\n",
    "        return 0.0\n",
    "    else:\n",
    "        return 1.0/1.2**n\n",
    "\n",
    "lbda = np.vectorize(lbda)\n",
    "\n",
    "inputsignal = 2*np.random.rand(nsamples)-1\n",
    "hammerout = np.zeros(nsamples)\n",
    "\n",
    "for n in range(nsamples):\n",
    "    hammerout[n] = np.sum( m(inputsignal[0:n+1]) * lbda(np.r_[n:-1:-1]) )\n",
    "hammernoise = hammerout + noiselevel*np.max(np.abs(hammerout))*np.random.randn(nsamples)\n",
    "scale = np.max(np.abs(hammernoise))\n",
    "hammernoise = hammernoise/scale\n",
    "hammerPoints, mu = hammerstein(inputsignal,hammernoise,\n",
    "                               h=lambda n:n**(-0.3),npoints=int(nsamples/4))\n",
    "finIdx = np.isfinite(mu)\n",
    "muFun = interp1d(hammerPoints[finIdx],mu[finIdx])"
   ]
  },
  {
   "cell_type": "code",
   "execution_count": null,
   "metadata": {
    "collapsed": false
   },
   "outputs": [],
   "source": [
    "plt.scatter(inputsignal, hammernoise, \n",
    "            marker='.', facecolor='none', edgecolor='gray', alpha=0.5)\n",
    "plt.plot(hammerPoints, m(hammerPoints), label='True nonlinearity')\n",
    "plt.plot(hammerPoints, muFun(hammerPoints)*scale, label='Approximate nonlinearity')\n",
    "plt.legend()\n",
    "plt.xlabel('Input samples')\n",
    "plt.ylabel('Output samples')\n",
    "plt.xlim(-1,1)\n",
    "#plt.show()\n",
    "mpld3.display()"
   ]
  },
  {
   "cell_type": "code",
   "execution_count": null,
   "metadata": {
    "collapsed": true,
    "slideshow": {
     "slide_type": "skip"
    }
   },
   "outputs": [],
   "source": [
    "%qtconsole\n"
   ]
  }
 ],
 "metadata": {
  "celltoolbar": "Slideshow",
  "kernelspec": {
   "display_name": "Python 3",
   "language": "python",
   "name": "python3"
  },
  "language_info": {
   "codemirror_mode": {
    "name": "ipython",
    "version": 3
   },
   "file_extension": ".py",
   "mimetype": "text/x-python",
   "name": "python",
   "nbconvert_exporter": "python",
   "pygments_lexer": "ipython3",
   "version": "3.6.0"
  }
 },
 "nbformat": 4,
 "nbformat_minor": 2
}
