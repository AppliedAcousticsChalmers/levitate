{
 "cells": [
  {
   "cell_type": "code",
   "execution_count": null,
   "metadata": {
    "collapsed": true
   },
   "outputs": [],
   "source": [
    "%qtconsole"
   ]
  },
  {
   "cell_type": "code",
   "execution_count": null,
   "metadata": {
    "collapsed": false
   },
   "outputs": [],
   "source": [
    "import numpy as np\n",
    "import pandas as pd\n",
    "import scipy.signal as signal\n",
    "from scipy.fftpack import fft, ifft, fftfreq\n",
    "from nonlinear import hammersteinModel\n",
    "from parametricaudio import ParametricAudioModel\n",
    "from bokeh.plotting import figure, show, output_notebook\n",
    "from bokeh.models import ColumnDataSource\n",
    "from bokeh.layouts import gridplot\n",
    "output_notebook()\n",
    "TOOLS = 'pan,box_zoom,wheel_zoom,reset'"
   ]
  },
  {
   "cell_type": "code",
   "execution_count": null,
   "metadata": {
    "collapsed": false
   },
   "outputs": [],
   "source": [
    "\n",
    "n=2**14\n",
    "fs=192e3\n",
    "f0=1e3\n",
    "t=np.arange(n)/fs\n",
    "\n",
    "\n",
    "lpf = signal.iirfilter(24,24e3/(fs/2),btype='low')\n",
    "\n",
    "paramAudio = ParametricAudioModel(\n",
    "    modulation='simple',demodulation='detection',\n",
    "    fs=fs, padcycles=100,windowcycles=400,\n",
    "    equalize='no',lpf=False)\n",
    "rectangular = hammersteinModel(kernel='rectangular',npoints=500)\n",
    "gauss = hammersteinModel(kernel='gauss',npoints=500)\n",
    "legendre = hammersteinModel(kernel='legendre',npoints=500)\n",
    "\n",
    "\n",
    "inputsignal = 2*np.random.rand(n)-1\n",
    "inputsignal = signal.lfilter(lpf[0], lpf[1], inputsignal)\n",
    "\n",
    "#inputsignal = signal.chirp(t,20,t[-1],24e3)\n",
    "#inputsignal = np.sin(2*np.pi*f0*t)\n",
    "inputsignal /= np.max(np.abs(inputsignal))\n",
    "timedata = pd.DataFrame({'input':inputsignal,'t':t})\n",
    "timedata['output'] = paramAudio(inputsignal)\n",
    "timedata['window'] = paramAudio.window\n",
    "\n",
    "smoothing = np.ceil(paramAudio.windowcycles*paramAudio.fs/paramAudio.fc).astype('int')\n",
    "#inputsignal=inputsignal[smoothing:-smoothing]\n",
    "#outputsignal=outputsignal[smoothing:-smoothing]\n",
    "timedata.drop(timedata.head(smoothing).index,inplace=True)\n",
    "timedata.drop(timedata.tail(smoothing).index,inplace=True)\n",
    "\n",
    "freqdata = pd.DataFrame({\n",
    "    'f': fftfreq(len(timedata),1/fs),\n",
    "    'input': fft(timedata['input']),\n",
    "    'output': fft(timedata['output'])\n",
    "})\n",
    "\n",
    "nonlinearity = pd.DataFrame({'x':np.linspace(-1,1,1e3)})\n",
    "linearity = pd.DataFrame({'t': np.arange(rectangular.irlen)/fs})\n",
    "\n",
    "rectangular.approximateNonlinearity(timedata['input'],timedata['output'])\n",
    "nonlinearity['rectangular'] = rectangular.nonlinearity(nonlinearity['x'])\n",
    "rectangular.approximateLinearity(timedata['input'],timedata['output'])\n",
    "linearity['rectangular'] = rectangular.impulseResponse\n",
    "\n",
    "legendre.approximateNonlinearity(timedata['input'],timedata['output'])\n",
    "nonlinearity['legendre'] = legendre.nonlinearity(nonlinearity['x'])\n",
    "legendre.approximateLinearity(timedata['input'],timedata['output'])\n",
    "linearity['legendre'] = legendre.impulseResponse\n",
    "\n",
    "gauss.approximateNonlinearity(timedata['input'],timedata['output'])\n",
    "nonlinearity['gauss'] = gauss.nonlinearity(nonlinearity['x'])\n",
    "gauss.approximateLinearity(timedata['input'],timedata['output'])\n",
    "linearity['gauss'] = gauss.impulseResponse\n",
    "\n",
    "inputsignal = 2*np.random.rand(n)-1\n",
    "lpf = signal.iirfilter(24,24e3/(fs/2),btype='low')\n",
    "inputsignal = signal.lfilter(lpf[0], lpf[1], inputsignal)\n",
    "inputsignal /= np.max(np.abs(inputsignal))\n",
    "outputsignal = paramAudio(inputsignal)\n",
    "\n",
    "gauss.refineModel(inputsignal,outputsignal)\n",
    "nonlinearity['refined gauss'] = gauss.nonlinearity(nonlinearity['x'])\n",
    "linearity['refined gauss'] = gauss.impulseResponse\n"
   ]
  },
  {
   "cell_type": "code",
   "execution_count": null,
   "metadata": {
    "collapsed": false
   },
   "outputs": [],
   "source": [
    "f1=figure(tools=TOOLS+',box_select,lasso_select',title='Input')\n",
    "f2=figure(tools=TOOLS+',box_select,lasso_select',title='Output')\n",
    "f3=figure(tools=TOOLS+',box_select,lasso_select',x_axis_label='Input',y_axis_label='Output')\n",
    "cds=ColumnDataSource(timedata)\n",
    "f1.line(x='t',y='input',source=cds,selection_color='orange',nonselection_alpha=0.5)\n",
    "f1.circle(x='t',y='input',source=cds,alpha=0,nonselection_alpha=0)\n",
    "f2.line(x='t',y='output',source=cds,selection_color='orange',nonselection_alpha=0.5)\n",
    "f2.circle(x='t',y='output',source=cds,alpha=0,nonselection_alpha=0)\n",
    "f3.circle(x='input',y='output',source=cds,selection_color='orange')\n",
    "p=gridplot([[f1],[f2],[f3]])\n",
    "show(p)"
   ]
  },
  {
   "cell_type": "code",
   "execution_count": null,
   "metadata": {
    "collapsed": false
   },
   "outputs": [],
   "source": [
    "f1=figure(tools=TOOLS,x_axis_type='log')\n",
    "f2=figure(tools=TOOLS,x_axis_type='log')\n",
    "f1.line(freqdata['f'],20*np.log10(np.abs(freqdata['input'])))\n",
    "f2.line(freqdata['f'],20*np.log10(np.abs(freqdata['output'])))\n",
    "p=gridplot([[f1],[f2]])\n",
    "show(p)\n"
   ]
  },
  {
   "cell_type": "code",
   "execution_count": null,
   "metadata": {
    "collapsed": false
   },
   "outputs": [],
   "source": [
    "f=figure(tools=TOOLS,title='Nonlinear approximations')\n",
    "fun = lambda x: -x**2\n",
    "f.line(nonlinearity['x'],nonlinearity['rectangular'],legend='Rectangular')\n",
    "f.line(nonlinearity['x'],nonlinearity['legendre'],legend='Legendre',color='orange')\n",
    "f.line(nonlinearity['x'],nonlinearity['gauss'],legend='Gaussian',color='green')\n",
    "f.line(nonlinearity['x'],nonlinearity['refined gauss'],legend='Refined Gaussian',color='red')\n",
    "f.line(nonlinearity['x'],fun(nonlinearity['x']),legend='Analytical',color='black')\n",
    "show(f)"
   ]
  },
  {
   "cell_type": "code",
   "execution_count": null,
   "metadata": {
    "collapsed": false
   },
   "outputs": [],
   "source": [
    "\n",
    "\n",
    "f=figure(tools=TOOLS,title='Impulse response')\n",
    "f.line(linearity['t'],linearity['rectangular'],legend='Rectangular')\n",
    "f.line(linearity['t'],linearity['legendre'],legend='Legendre',color='orange')\n",
    "f.line(linearity['t'],linearity['gauss'],legend='Gaussian',color='green')\n",
    "f.line(linearity['t'],linearity['refined gauss'],legend='Refined gaussian',color='red')\n",
    "show(f)"
   ]
  }
 ],
 "metadata": {
  "kernelspec": {
   "display_name": "Python 3",
   "language": "python",
   "name": "python3"
  },
  "language_info": {
   "codemirror_mode": {
    "name": "ipython",
    "version": 3
   },
   "file_extension": ".py",
   "mimetype": "text/x-python",
   "name": "python",
   "nbconvert_exporter": "python",
   "pygments_lexer": "ipython3",
   "version": "3.6.0"
  }
 },
 "nbformat": 4,
 "nbformat_minor": 2
}
