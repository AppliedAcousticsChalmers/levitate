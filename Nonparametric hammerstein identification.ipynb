{
 "cells": [
  {
   "cell_type": "code",
   "execution_count": null,
   "metadata": {
    "collapsed": true
   },
   "outputs": [],
   "source": [
    "%qtconsole"
   ]
  },
  {
   "cell_type": "code",
   "execution_count": null,
   "metadata": {
    "collapsed": false
   },
   "outputs": [],
   "source": [
    "import numpy as np\n",
    "import matplotlib.pyplot as plt\n",
    "import mpld3\n",
    "from scipy.interpolate import interp1d\n",
    "from nonlinear import hammersteinModel as hammerstein"
   ]
  },
  {
   "cell_type": "markdown",
   "metadata": {},
   "source": [
    "## System\n",
    "Define the system and calculate input and output signals"
   ]
  },
  {
   "cell_type": "code",
   "execution_count": null,
   "metadata": {
    "collapsed": false
   },
   "outputs": [],
   "source": [
    "nsamples = 2**12\n",
    "noiselevel = 0.25\n",
    "\n",
    "def m(u):\n",
    "    # return (1-np.exp(-np.abs(u)))*np.sign(u)\n",
    "    #return (u**2+0.5*u**3)/1.5\n",
    "    #return u**2\n",
    "    return np.r_[0,np.diff(u**2,2),0]\n",
    "def lbda(n):\n",
    "    with np.errstate(divide='ignore',invalid='ignore'):\n",
    "        return np.select([n<0,n==25,n<1000],[0.,0.7,1.0/1.01**n],0)\n",
    "#def lbda(n):\n",
    "#    return np.select([n==0,n==1,n==2],[1,-2,1],0)\n",
    "\n",
    "inputsignal = 2*np.random.rand(nsamples)-1\n",
    "#inputsignal = np.sin(np.linspace(0,10*np.pi,nsamples))\n",
    "ir = lbda(np.arange(1000))*(2*np.random.rand(1000)-1)\n",
    "ir[0]=1\n",
    "#ir = np.r_[1,-2,1]*nsamples*2\n",
    "\n",
    "trueSystem = hammerstein()\n",
    "trueSystem.nonlinearity = m\n",
    "trueSystem.impulseResponse = ir\n",
    "outputsignal = trueSystem(inputsignal)\n",
    "    \n",
    "noiseout = outputsignal + noiselevel*np.max(np.abs(outputsignal))*(2*np.random.rand(nsamples)-1)\n",
    "scale = np.max(np.abs(noiseout))\n",
    "noiseout = noiseout/scale\n"
   ]
  },
  {
   "cell_type": "markdown",
   "metadata": {},
   "source": [
    "## Non-linear approximation\n",
    "Define parameters for the approximation of the non-linearity, and perform the calculations.\n",
    "This part uses the raw input and output algorithms, with a rectangular kernel $K$.\n",
    "\n",
    "For non-linearities which $m(0)=0$ we can shift the approximation by $\\mu(0)$ This will be true for all acoustic non-linearities."
   ]
  },
  {
   "cell_type": "code",
   "execution_count": null,
   "metadata": {
    "collapsed": false
   },
   "outputs": [],
   "source": [
    "rectangular = hammerstein(kernel='rectangular',npoints=2**12)\n",
    "rectangular.approximateNonlinearity(inputsignal,noiseout)\n",
    "\n",
    "sincsq = hammerstein(kernel='sincsq')\n",
    "sincsq.approximateNonlinearity(inputsignal,noiseout)\n",
    "\n",
    "gauss = hammerstein(kernel='gauss')\n",
    "gauss.approximateNonlinearity(inputsignal,noiseout)\n",
    "\n",
    "legendre = hammerstein(kernel='legendre',npoints=1e3)\n",
    "#legendre.setOrthogonalBasis('legendre')\n",
    "legendre.approximateNonlinearity(inputsignal,noiseout)\n",
    "#legendre.orthogonalSeriesExpansion(inputsignal,outputsignal)\n"
   ]
  },
  {
   "cell_type": "code",
   "execution_count": null,
   "metadata": {
    "collapsed": false
   },
   "outputs": [],
   "source": [
    "x=np.linspace(-1,1,1e3)\n",
    "#plt.scatter(inputsignal,noiseout,marker='.',facecolor='none',edgecolor='gray',alpha=0.5)\n",
    "plt.plot(x,m(x),label='True')\n",
    "plt.plot(x,rectangular.nonlinearity(x),label='Rectangular')\n",
    "plt.plot(x,sincsq.nonlinearity(x),label='Sinc squared')\n",
    "plt.plot(x,gauss.nonlinearity(x),label='Gaussian')\n",
    "plt.plot(x,legendre.nonlinearity(x),label='Legendre')\n",
    "#plt.plot(x,legendre.orthogonalApproximation(x),label='Orthogonal Legendre')\n",
    "plt.legend()\n",
    "plt.show()"
   ]
  },
  {
   "cell_type": "markdown",
   "metadata": {},
   "source": [
    "## Linear system approximation\n",
    "Approximate the parameter $\\kappa$, proportional to the dynamic impulse response of the linear system.\n",
    "This part uses the proposed algorithm without compensating for the non-linear system.\n",
    "\n",
    "$\\kappa$ can be normalized by dividing by the first element. This will give a better appoximation if the original impulse response has unity gain for the first element."
   ]
  },
  {
   "cell_type": "code",
   "execution_count": null,
   "metadata": {
    "collapsed": false
   },
   "outputs": [],
   "source": [
    "rectangular.approximateLinearity(inputsignal,outputsignal)\n",
    "gauss.approximateLinearity(inputsignal,outputsignal)\n"
   ]
  },
  {
   "cell_type": "code",
   "execution_count": null,
   "metadata": {
    "collapsed": false
   },
   "outputs": [],
   "source": [
    "db = lambda x:20*np.log10(np.abs(x))\n",
    "plt.plot(db(ir[:256]),label='True')\n",
    "plt.plot(db(rectangular.impulseResponse),label='Rectangular')\n",
    "plt.plot(db(gauss.impulseResponse),label='Gaussian')\n",
    "plt.legend()\n",
    "#plt.show()\n",
    "mpld3.display()"
   ]
  },
  {
   "cell_type": "code",
   "execution_count": null,
   "metadata": {
    "collapsed": false
   },
   "outputs": [],
   "source": [
    "x=np.linspace(-1,1,1e3)\n",
    "db = lambda x:20*np.log10(np.abs(x))\n",
    "refiningSystem = hammerstein('gauss',irlen=60)\n",
    "\n",
    "plt.subplot(1,2,1)\n",
    "plt.plot(x,m(x),label='True')\n",
    "plt.subplot(1,2,2)\n",
    "plt.plot(db(ir[:60]),label='True')\n",
    "\n",
    "\n",
    "refiningSystem.approximateNonlinearity(inputsignal,noiseout)\n",
    "refiningSystem.approximateLinearity(inputsignal,noiseout)\n",
    "plt.subplot(1,2,1)\n",
    "plt.plot(x,refiningSystem.nonlinearity(x),label='First approx')\n",
    "plt.subplot(1,2,2)\n",
    "plt.plot(db(refiningSystem.impulseResponse),label='First approx')\n",
    "\n",
    "inputsignal = 2*np.random.rand(nsamples)-1\n",
    "outputsignal = trueSystem(inputsignal)\n",
    "noiseout = outputsignal + noiselevel*np.max(np.abs(outputsignal))*(2*np.random.rand(nsamples)-1)\n",
    "refiningSystem.refineModel(inputsignal,noiseout)\n",
    "plt.subplot(1,2,1)\n",
    "plt.plot(x,refiningSystem.nonlinearity(x),label='Second approx')\n",
    "plt.subplot(1,2,2)\n",
    "plt.plot(db(refiningSystem.impulseResponse),label='Second approx')\n",
    "\n",
    "inputsignal = 2*np.random.rand(nsamples)-1\n",
    "outputsignal = trueSystem(inputsignal)\n",
    "noiseout = outputsignal + noiselevel*np.max(np.abs(outputsignal))*(2*np.random.rand(nsamples)-1)\n",
    "refiningSystem.refineModel(inputsignal,noiseout)\n",
    "plt.subplot(1,2,1)\n",
    "plt.plot(x,refiningSystem.nonlinearity(x),label='Third approx')\n",
    "plt.subplot(1,2,2)\n",
    "plt.plot(db(refiningSystem.impulseResponse),label='Third approx')\n",
    "\n",
    "inputsignal = 2*np.random.rand(nsamples)-1\n",
    "outputsignal = trueSystem(inputsignal)\n",
    "noiseout = outputsignal + noiselevel*np.max(np.abs(outputsignal))*(2*np.random.rand(nsamples)-1)\n",
    "refiningSystem.refineModel(inputsignal,noiseout)\n",
    "inputsignal = 2*np.random.rand(nsamples)-1\n",
    "outputsignal = trueSystem(inputsignal)\n",
    "noiseout = outputsignal + noiselevel*np.max(np.abs(outputsignal))*(2*np.random.rand(nsamples)-1)\n",
    "refiningSystem.refineModel(inputsignal,noiseout)\n",
    "inputsignal = 2*np.random.rand(nsamples)-1\n",
    "outputsignal = trueSystem(inputsignal)\n",
    "noiseout = outputsignal + noiselevel*np.max(np.abs(outputsignal))*(2*np.random.rand(nsamples)-1)\n",
    "refiningSystem.refineModel(inputsignal,noiseout)\n",
    "\n",
    "plt.subplot(1,2,1)\n",
    "plt.plot(x,refiningSystem.nonlinearity(x),label='Sixth approx')\n",
    "plt.subplot(1,2,2)\n",
    "plt.plot(db(refiningSystem.impulseResponse),label='Sixth approx')\n",
    "\n",
    "plt.subplot(1,2,1)\n",
    "plt.legend()\n",
    "plt.subplot(1,2,2)\n",
    "plt.legend()\n",
    "mpld3.display()\n"
   ]
  }
 ],
 "metadata": {
  "kernelspec": {
   "display_name": "Python 3",
   "language": "python",
   "name": "python3"
  },
  "language_info": {
   "codemirror_mode": {
    "name": "ipython",
    "version": 3
   },
   "file_extension": ".py",
   "mimetype": "text/x-python",
   "name": "python",
   "nbconvert_exporter": "python",
   "pygments_lexer": "ipython3",
   "version": "3.6.0"
  }
 },
 "nbformat": 4,
 "nbformat_minor": 2
}
