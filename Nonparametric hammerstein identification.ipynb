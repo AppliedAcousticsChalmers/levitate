{
 "cells": [
  {
   "cell_type": "code",
   "execution_count": null,
   "metadata": {
    "collapsed": false
   },
   "outputs": [],
   "source": [
    "import numpy as np\n",
    "import matplotlib.pyplot as plt\n",
    "import mpld3\n",
    "from scipy.interpolate import interp1d\n",
    "from nonlinear import hammersteinApproximation as hammerstein\n",
    "from nonlinear import hammersteinLinearApproximation as linearHammer"
   ]
  },
  {
   "cell_type": "markdown",
   "metadata": {},
   "source": [
    "## System\n",
    "Define the system and calculate input and output signals"
   ]
  },
  {
   "cell_type": "code",
   "execution_count": null,
   "metadata": {
    "collapsed": false
   },
   "outputs": [],
   "source": [
    "nsamples = 2**12\n",
    "noiselevel = 0.25\n",
    "\n",
    "def m(u):\n",
    "    # return (1-np.exp(-np.abs(u)))*np.sign(u)\n",
    "    return (u**2+0.5*u**3)/1.5\n",
    "    # return u**2\n",
    "def lbda(n):\n",
    "    with np.errstate(divide='ignore',invalid='ignore'):\n",
    "        return np.select([n<0,n==25,n<1000],[0.,0.7,1.0/1.1**n],0)\n",
    "\n",
    "inputsignal = 2*np.random.rand(nsamples)-1\n",
    "pureout = np.zeros(nsamples)\n",
    "\n",
    "for n in range(nsamples):\n",
    "    pureout[n] = np.sum( m(inputsignal[0:n+1]) * lbda(np.r_[n:-1:-1]) )\n",
    "    \n",
    "noiseout = pureout + noiselevel*np.max(np.abs(pureout))*np.random.randn(nsamples)\n",
    "scale = np.max(np.abs(noiseout))\n",
    "noiseout = noiseout/scale\n"
   ]
  },
  {
   "cell_type": "markdown",
   "metadata": {},
   "source": [
    "## Non-linear approximation\n",
    "Define parameters for the approximation of the non-linearity, and perform the calculations.\n",
    "This part uses the raw input and output algorithms, with a rectangular kernel $K$.\n",
    "\n",
    "For non-linearities which $m(0)=0$ we can shift the approximation by $\\mu(0)$ This will be true for all acoustic non-linearities."
   ]
  },
  {
   "cell_type": "code",
   "execution_count": null,
   "metadata": {
    "collapsed": false
   },
   "outputs": [],
   "source": [
    "legendreX, legendreY = hammerstein(inputsignal,noiseout,kernel = 'legendre',kernelParam=None)\n",
    "finIdx = np.isfinite(legendreY)\n",
    "appScale = np.max(np.abs(legendreY))\n",
    "legendreFun = interp1d(legendreX[finIdx],legendreY[finIdx]/appScale)\n",
    "\n",
    "rectangularX, rectangularY = hammerstein(inputsignal,noiseout,kernel = 'rectangular',kernelParam=None)\n",
    "finIdx = np.isfinite(rectangularY)\n",
    "appScale = np.max(np.abs(rectangularY))\n",
    "rectangularFun = interp1d(rectangularX[finIdx],rectangularY[finIdx]/appScale)\n",
    "\n",
    "plt.scatter(inputsignal,noiseout,marker='.',facecolor='none',edgecolor='gray',alpha=0.5)\n",
    "plt.plot(legendreX,legendreFun(legendreX),label='Legendre')\n",
    "plt.plot(rectangularX,rectangularFun(rectangularX),label='Rectangular')\n",
    "plt.plot(legendreX,m(legendreX),label='True')\n",
    "plt.legend()\n",
    "plt.show()\n",
    "#mpld3.display()"
   ]
  },
  {
   "cell_type": "markdown",
   "metadata": {},
   "source": [
    "## Linear system approximation\n",
    "Approximate the parameter $\\kappa$, proportional to the dynamic impulse response of the linear system.\n",
    "This part uses the proposed algorithm without compensating for the non-linear system.\n",
    "\n",
    "$\\kappa$ can be normalized by dividing by the first element. This will give a better appoximation if the original impulse response has unity gain for the first element."
   ]
  },
  {
   "cell_type": "code",
   "execution_count": null,
   "metadata": {
    "collapsed": false
   },
   "outputs": [],
   "source": [
    "kappa = linearHammer(inputsignal, noiseout, nonlinearFun = muFun, len = 50)\n",
    "lbdaApprox = kappa/kappa[0]\n",
    "\n",
    "plt.semilogy(np.abs(kappa))\n",
    "plt.semilogy(np.abs(lbdaApprox))\n",
    "plt.semilogy(np.abs(lbda(np.arange(kappa.size))))\n",
    "mpld3.display()\n",
    "#plt.show()\n",
    "\n"
   ]
  },
  {
   "cell_type": "code",
   "execution_count": null,
   "metadata": {
    "collapsed": true
   },
   "outputs": [],
   "source": [
    "%qtconsole"
   ]
  }
 ],
 "metadata": {
  "kernelspec": {
   "display_name": "Python 3",
   "language": "python",
   "name": "python3"
  },
  "language_info": {
   "codemirror_mode": {
    "name": "ipython",
    "version": 3
   },
   "file_extension": ".py",
   "mimetype": "text/x-python",
   "name": "python",
   "nbconvert_exporter": "python",
   "pygments_lexer": "ipython3",
   "version": "3.6.0"
  }
 },
 "nbformat": 4,
 "nbformat_minor": 2
}
