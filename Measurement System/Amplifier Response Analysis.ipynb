{
 "cells": [
  {
   "cell_type": "code",
   "execution_count": null,
   "metadata": {},
   "outputs": [],
   "source": [
    "%qtconsole"
   ]
  },
  {
   "cell_type": "code",
   "execution_count": null,
   "metadata": {},
   "outputs": [],
   "source": [
    "import pandas as pd\n",
    "import numpy as np\n",
    "import matplotlib.pyplot as plt\n",
    "from scipy.fftpack import fft,ifft,fftfreq"
   ]
  },
  {
   "cell_type": "code",
   "execution_count": null,
   "metadata": {},
   "outputs": [],
   "source": [
    "timedata=pd.read_csv('../Measurements/Amplifier sweep/1.txt',delimiter='\\t',header=None)\n",
    "frequencydata=timedata.apply(fft,raw=True)/len(timedata)\n",
    "deconvolved=frequencydata.drop([0,1],axis=1).apply(lambda x: ifft(x/frequencydata[1]),raw=True)\n",
    "frequencyresponse=deconvolved.apply(fft,raw=True)\n",
    "avgresponse=frequencyresponse.drop(2,axis=1).abs().mean(axis=1)"
   ]
  },
  {
   "cell_type": "code",
   "execution_count": null,
   "metadata": {},
   "outputs": [],
   "source": [
    "f=fftfreq(len(frequencydata),1/192e3)\n",
    "idx = (f>30e3) & (f<50e3)\n",
    "db=lambda x:20*np.log10(np.abs(x))\n",
    "phase=lambda x:np.unwrap(np.angle(x))/np.pi\n",
    "plt.semilogx(f[idx],avgresponse[idx])\n",
    "#plt.xlim(xmin=1e4)\n",
    "#plt.ylim(18,21)\n",
    "plt.show()"
   ]
  }
 ],
 "metadata": {
  "kernelspec": {
   "display_name": "Python 3",
   "language": "python",
   "name": "python3"
  },
  "language_info": {
   "codemirror_mode": {
    "name": "ipython",
    "version": 3
   },
   "file_extension": ".py",
   "mimetype": "text/x-python",
   "name": "python",
   "nbconvert_exporter": "python",
   "pygments_lexer": "ipython3",
   "version": "3.6.0"
  }
 },
 "nbformat": 4,
 "nbformat_minor": 2
}
