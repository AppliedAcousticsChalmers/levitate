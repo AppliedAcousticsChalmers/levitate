{
 "cells": [
  {
   "cell_type": "markdown",
   "metadata": {},
   "source": [
    "# Calculations of the impedance of a loudspeaker"
   ]
  },
  {
   "cell_type": "markdown",
   "metadata": {},
   "source": [
    "Imports and function declarations"
   ]
  },
  {
   "cell_type": "code",
   "execution_count": null,
   "metadata": {},
   "outputs": [],
   "source": [
    "import numpy as np\n",
    "import pandas as pd\n",
    "from scipy.fftpack import fft, ifft, fftfreq\n",
    "import scipy.signal as signal\n",
    "import matplotlib.pyplot as plt\n",
    "from configparser import ConfigParser\n",
    "dB2 = lambda x: 10*np.log10(np.abs(x))"
   ]
  },
  {
   "cell_type": "markdown",
   "metadata": {},
   "source": [
    "Load the data and extract the frequency domain signals of the two voltages."
   ]
  },
  {
   "cell_type": "code",
   "execution_count": null,
   "metadata": {},
   "outputs": [],
   "source": [
    "folder = 'Single transducer'\n",
    "folder = folder = '../Measurements/Impedance measurements/' + folder + '/'\n",
    "config = ConfigParser()\n",
    "config.read(folder + 'settings.ini')\n",
    "fs=float(config['General']['fs'])\n",
    "n=int(config['General']['blocksize'])\n",
    "f=fftfreq(n,1/fs)\n",
    "fLow = float(config['Signal']['Frequency'])\n",
    "fHigh = float(config['Signal']['Parameter 2'])\n",
    "\n",
    "timedata=pd.read_csv(folder + 'F1.txt',delimiter='\\t')\n",
    "frequencydata = timedata.apply(fft,raw=True)/n\n",
    "spectrogram=timedata.apply(lambda x: signal.spectrogram(x,fs=fs,nperseg=2**15,scaling='spectrum'))\n"
   ]
  },
  {
   "cell_type": "markdown",
   "metadata": {},
   "source": [
    "Use the circuit analysis of the resistor network to calculate the impedance of the loudspeaker."
   ]
  },
  {
   "cell_type": "code",
   "execution_count": null,
   "metadata": {},
   "outputs": [],
   "source": [
    "if any(frequencydata.columns == 'Black'):\n",
    "    # Using the electroacoustics lab box\n",
    "    # Balanced for approx 4 Ohm\n",
    "    E_black = frequencydata['Black']\n",
    "    E_red = frequencydata['Red']\n",
    "    R1=0.38\n",
    "    R2=12047\n",
    "    R3=987\n",
    "    Z=(R2+R3)*R1/R3 * E_black/E_red - R1\n",
    "elif any(frequencydata.columns == 'Green'):\n",
    "    # Using the prototype board circuit\n",
    "    # Balanced for approx 220 Ohm\n",
    "    E_green = frequencydata['Green']\n",
    "    E_blue = frequencydata['Blue']\n",
    "    R1=18.04\n",
    "    R2=219.5e3\n",
    "    R3=18e3\n",
    "    Z=(R2+R3)*R1/R3 * E_blue/E_green - R1\n"
   ]
  },
  {
   "cell_type": "markdown",
   "metadata": {},
   "source": [
    "Plot the result and calculate the nominal impedance."
   ]
  },
  {
   "cell_type": "code",
   "execution_count": null,
   "metadata": {},
   "outputs": [],
   "source": [
    "idx = (f>fLow) & (f<fHigh)\n",
    "plt.semilogy(f[idx],np.abs(Z[idx]))\n",
    "print('Minimum value in range is {:.1f} Ohm'.format(np.min(np.abs(Z[idx]))))\n",
    "print('The nominal impedance is {:.0f} Ohm'.format(1.15*np.min(np.abs(Z[idx]))))\n",
    "plt.show()\n",
    "plt.plot(f[idx],np.unwrap(np.angle(Z[idx]))/np.pi)\n",
    "#plt.xlim((fLow,fHigh))\n",
    "plt.show()"
   ]
  },
  {
   "cell_type": "markdown",
   "metadata": {},
   "source": [
    "Check that the amplifier output is good!"
   ]
  },
  {
   "cell_type": "code",
   "execution_count": null,
   "metadata": {},
   "outputs": [],
   "source": [
    "spectrIdx='Red'\n",
    "plt.pcolormesh(spectrogram[spectrIdx][1],\n",
    "               spectrogram[spectrIdx][0],\n",
    "               dB2(spectrogram[spectrIdx][2]),\n",
    "              vmin=-100,vmax=None)\n",
    "#plt.ylim((fLow,fHigh))\n",
    "plt.colorbar()\n",
    "plt.show()"
   ]
  }
 ],
 "metadata": {
  "kernelspec": {
   "display_name": "Python 3",
   "language": "python",
   "name": "python3"
  },
  "language_info": {
   "codemirror_mode": {
    "name": "ipython",
    "version": 3
   },
   "file_extension": ".py",
   "mimetype": "text/x-python",
   "name": "python",
   "nbconvert_exporter": "python",
   "pygments_lexer": "ipython3",
   "version": "3.6.1"
  }
 },
 "nbformat": 4,
 "nbformat_minor": 2
}
