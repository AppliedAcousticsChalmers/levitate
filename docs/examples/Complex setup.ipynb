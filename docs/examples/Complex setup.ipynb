{
 "cells": [
  {
   "cell_type": "markdown",
   "id": "recognized-framing",
   "metadata": {},
   "source": [
    "# Complicated transducer array setup\n",
    "The setup shown here is a doublesided array where the two halves\n",
    "are standing vertically 3 cm above a reflecting surface.\n",
    "\n",
    "In this example no optimization is done, but all optimization functions\n",
    "support complex arrangements like this one."
   ]
  },
  {
   "cell_type": "code",
   "execution_count": null,
   "id": "proved-mexico",
   "metadata": {},
   "outputs": [],
   "source": [
    "import numpy as np\n",
    "import levitate"
   ]
  },
  {
   "cell_type": "markdown",
   "id": "electoral-cancellation",
   "metadata": {},
   "source": [
    "Reflections from planar reflections are handled as a transducer object.\n",
    "In this case, we wrap a `CircularPiston` object, to include some directivity as well."
   ]
  },
  {
   "cell_type": "code",
   "execution_count": null,
   "id": "preceding-nation",
   "metadata": {},
   "outputs": [],
   "source": [
    "transducer = levitate.transducers.TransducerReflector(\n",
    "    levitate.transducers.CircularPiston, effective_radius=3e-3,\n",
    "    plane_intersect=(0, 0, 0), plane_normal=(0, 0, 1))"
   ]
  },
  {
   "cell_type": "markdown",
   "id": "streaming-harvest",
   "metadata": {},
   "source": [
    "The transducer array is created by using the `DoublesidedArray` class, which takes the type of array to use as the singlesided template as one of the inputs."
   ]
  },
  {
   "cell_type": "code",
   "execution_count": null,
   "id": "comparable-terrorism",
   "metadata": {},
   "outputs": [],
   "source": [
    "array = levitate.arrays.DoublesidedArray(\n",
    "    levitate.arrays.RectangularArray, separation=200e-3,\n",
    "    normal=(1, 0, 0), offset=(0, 0, 50e-3),\n",
    "    shape=(5, 10), transducer=transducer\n",
    ")"
   ]
  },
  {
   "cell_type": "markdown",
   "id": "industrial-smith",
   "metadata": {},
   "source": [
    "We visualize the sound pressure field, as well as the velocity magnitude field."
   ]
  },
  {
   "cell_type": "code",
   "execution_count": null,
   "id": "floating-sunrise",
   "metadata": {},
   "outputs": [],
   "source": [
    "phases = array.focus_phases(np.array([25e-3, 0, 40e-3]))\n",
    "amps = levitate.complex(phases)\n",
    "array.visualize.zlimits = (0, 0.1)\n",
    "array.visualize.append('Pressure')\n",
    "array.visualize.append('Velocity')\n",
    "array.visualize(amps).show()"
   ]
  }
 ],
 "metadata": {
  "kernelspec": {
   "display_name": "Python 3",
   "language": "python",
   "name": "python3"
  },
  "language_info": {
   "codemirror_mode": {
    "name": "ipython",
    "version": 3
   },
   "file_extension": ".py",
   "mimetype": "text/x-python",
   "name": "python",
   "nbconvert_exporter": "python",
   "pygments_lexer": "ipython3",
   "version": "3.9.1"
  }
 },
 "nbformat": 4,
 "nbformat_minor": 5
}
