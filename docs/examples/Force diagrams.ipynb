{
 "cells": [
  {
   "cell_type": "markdown",
   "id": "short-fluid",
   "metadata": {},
   "source": [
    "# Visualizing the force around a trap\n",
    "This example show how to easily visualize the radiation force in the vicinity of an object."
   ]
  },
  {
   "cell_type": "code",
   "execution_count": null,
   "id": "confidential-asset",
   "metadata": {},
   "outputs": [],
   "source": [
    "import numpy as np\n",
    "import levitate"
   ]
  },
  {
   "cell_type": "code",
   "execution_count": null,
   "id": "concerned-appendix",
   "metadata": {},
   "outputs": [],
   "source": [
    "pos = np.array([0, 0, 60e-3])\n",
    "array = levitate.arrays.RectangularArray(16)\n",
    "amps = levitate.utils.complex(array.focus_phases(pos) + array.signature(stype='twin'))"
   ]
  },
  {
   "cell_type": "code",
   "execution_count": null,
   "id": "steady-optics",
   "metadata": {},
   "outputs": [],
   "source": [
    "radii = [1e-3, 2e-3, 4e-3, 8e-3, 16e-3]\n",
    "for radius in radii:\n",
    "    array.force_diagram.append([pos, {'radius': radius, 'name': '{} mm'.format(radius * 1e3)}])\n",
    "array.force_diagram(amps).show()"
   ]
  }
 ],
 "metadata": {
  "kernelspec": {
   "display_name": "Python 3",
   "language": "python",
   "name": "python3"
  },
  "language_info": {
   "codemirror_mode": {
    "name": "ipython",
    "version": 3
   },
   "file_extension": ".py",
   "mimetype": "text/x-python",
   "name": "python",
   "nbconvert_exporter": "python",
   "pygments_lexer": "ipython3",
   "version": "3.9.1"
  }
 },
 "nbformat": 4,
 "nbformat_minor": 5
}
