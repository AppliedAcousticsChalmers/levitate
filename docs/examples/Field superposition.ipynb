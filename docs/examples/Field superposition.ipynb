{
 "cells": [
  {
   "cell_type": "markdown",
   "id": "restricted-fiber",
   "metadata": {},
   "source": [
    "# Superposition of two fields\n",
    "A more advanced usage, designed to create a field with a levitation trap\n",
    "and a haptics focus point."
   ]
  },
  {
   "cell_type": "code",
   "execution_count": null,
   "id": "german-anatomy",
   "metadata": {},
   "outputs": [],
   "source": [
    "import numpy as np\n",
    "import levitate"
   ]
  },
  {
   "cell_type": "code",
   "execution_count": null,
   "id": "reported-hurricane",
   "metadata": {},
   "outputs": [],
   "source": [
    "array = levitate.arrays.RectangularArray((21, 12))\n",
    "trap_pos = np.array([-20e-3, 0, 60e-3])\n",
    "haptics_pos = np.array([40e-3, 0, 90e-3])\n",
    "phases = array.focus_phases(trap_pos) + array.signature(trap_pos, stype='twin') + 0.2 * np.random.uniform(-np.pi, np.pi, array.num_transducers)\n",
    "start = levitate.utils.complex(phases)"
   ]
  },
  {
   "cell_type": "markdown",
   "id": "prospective-target",
   "metadata": {},
   "source": [
    "The fields are superposed using mutual quiet zones, created by minimizing the pressure and velocity at the secondary point in each field.\n",
    "We will need three fields, calculating the pressure magnitude, the velocity magnitude, and the stiffenss of the trap."
   ]
  },
  {
   "cell_type": "code",
   "execution_count": null,
   "id": "amended-columbus",
   "metadata": {},
   "outputs": [],
   "source": [
    "p = abs(levitate.fields.Pressure(array))\n",
    "v = abs(levitate.fields.Velocity(array))\n",
    "s = levitate.fields.RadiationForceStiffness(array)"
   ]
  },
  {
   "cell_type": "markdown",
   "id": "functional-inspiration",
   "metadata": {},
   "source": [
    "The levitation trap is found using a minimization sequence.\n",
    "First the phases are optimized for just a trap, then the phases and amplitudes are optimized to include the quiet zone."
   ]
  },
  {
   "cell_type": "code",
   "execution_count": null,
   "id": "charged-grant",
   "metadata": {},
   "outputs": [],
   "source": [
    "trap_result = levitate.optimization.minimize(\n",
    "    [\n",
    "        (s * (1, 1, 1) + p * 1)@trap_pos,\n",
    "        (s * (1, 1, 1) + p * 1)@trap_pos + (v * (1e3, 1e3, 1e3) + p * 1)@haptics_pos\n",
    "    ],\n",
    "    array, start_values=start, variable_amplitudes=[False, True]\n",
    ")[-1]"
   ]
  },
  {
   "cell_type": "markdown",
   "id": "sunset-doctrine",
   "metadata": {},
   "source": [
    "The haptics point can be created using a simple focusing algorithm, so we can optimize for the inclusion of the quiet zone straight away.\n",
    "To retain the focus point we set a negative weight for the pressure, i.e. maximizing the pressure."
   ]
  },
  {
   "cell_type": "code",
   "execution_count": null,
   "id": "backed-amazon",
   "metadata": {},
   "outputs": [],
   "source": [
    "start = levitate.utils.complex(array.focus_phases(haptics_pos))\n",
    "haptics_result = levitate.optimization.minimize(\n",
    "    p * (-1)@haptics_pos + (p * 1 + v * (1e3, 1e3, 1e3))@trap_pos,\n",
    "    array, start_values=start, variable_amplitudes=True\n",
    ")"
   ]
  },
  {
   "cell_type": "markdown",
   "id": "direct-fortune",
   "metadata": {},
   "source": [
    "Finally, we visualize the individual fields, as well as the superposed field."
   ]
  },
  {
   "cell_type": "code",
   "execution_count": null,
   "id": "regulation-start",
   "metadata": {},
   "outputs": [],
   "source": [
    "array.visualize.append('pressure')\n",
    "array.visualize(\n",
    "    trap_result, haptics_result, haptics_result * 0.3 + trap_result * 0.7,\n",
    "    labels=['Trap', 'Haptics', 'Combined']\n",
    ").show()"
   ]
  }
 ],
 "metadata": {
  "kernelspec": {
   "display_name": "Python 3",
   "language": "python",
   "name": "python3"
  },
  "language_info": {
   "codemirror_mode": {
    "name": "ipython",
    "version": 3
   },
   "file_extension": ".py",
   "mimetype": "text/x-python",
   "name": "python",
   "nbconvert_exporter": "python",
   "pygments_lexer": "ipython3",
   "version": "3.9.1"
  }
 },
 "nbformat": 4,
 "nbformat_minor": 5
}
