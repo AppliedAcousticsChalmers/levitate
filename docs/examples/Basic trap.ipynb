{
 "cells": [
  {
   "cell_type": "markdown",
   "id": "likely-imagination",
   "metadata": {},
   "source": [
    "# Simple trap optimization.\n",
    "A very basic use-case, finding the correct phases to levitate a bead centered\n",
    "5 cm above a 9x9 element rectangular array, then inspecting the resultant field."
   ]
  },
  {
   "cell_type": "code",
   "execution_count": null,
   "id": "removable-deployment",
   "metadata": {},
   "outputs": [],
   "source": [
    "import numpy as np\n",
    "import levitate"
   ]
  },
  {
   "cell_type": "markdown",
   "id": "welcome-sessions",
   "metadata": {},
   "source": [
    "We define a target trap position and a transducer array.\n",
    "The optimizaiton typically converges from random initialization, but we can help it on the way by initializing close to a known nice solution."
   ]
  },
  {
   "cell_type": "code",
   "execution_count": null,
   "id": "independent-karen",
   "metadata": {},
   "outputs": [],
   "source": [
    "pos = np.array([0, 0, 80e-3])\n",
    "array = levitate.arrays.RectangularArray(9)\n",
    "phases = array.focus_phases(pos) + array.signature(stype='twin') + 0.2 * np.random.uniform(-np.pi, np.pi, array.num_transducers)\n",
    "start = levitate.utils.complex(phases)"
   ]
  },
  {
   "cell_type": "markdown",
   "id": "consecutive-appeal",
   "metadata": {},
   "source": [
    "To find the suitable state of the transducer array, we define a cost function that we minimize with a BFGS-variant optimization."
   ]
  },
  {
   "cell_type": "code",
   "execution_count": null,
   "id": "august-phone",
   "metadata": {},
   "outputs": [],
   "source": [
    "point = levitate.fields.GorkovLaplacian(array) * (-100, -100, -1) + abs(levitate.fields.Pressure(array)) * 1e-3\n",
    "results = levitate.optimization.minimize(point@pos, array, start_values=start)"
   ]
  },
  {
   "cell_type": "markdown",
   "id": "accredited-pennsylvania",
   "metadata": {},
   "source": [
    "Finally, we visualize the sound field."
   ]
  },
  {
   "cell_type": "code",
   "execution_count": null,
   "id": "african-constant",
   "metadata": {},
   "outputs": [],
   "source": [
    "array.visualize[0] = ['Signature', pos]\n",
    "array.visualize.append('Pressure')\n",
    "array.visualize(results).show()"
   ]
  }
 ],
 "metadata": {
  "kernelspec": {
   "display_name": "Python 3",
   "language": "python",
   "name": "python3"
  },
  "language_info": {
   "codemirror_mode": {
    "name": "ipython",
    "version": 3
   },
   "file_extension": ".py",
   "mimetype": "text/x-python",
   "name": "python",
   "nbconvert_exporter": "python",
   "pygments_lexer": "ipython3",
   "version": "3.9.1"
  }
 },
 "nbformat": 4,
 "nbformat_minor": 5
}
