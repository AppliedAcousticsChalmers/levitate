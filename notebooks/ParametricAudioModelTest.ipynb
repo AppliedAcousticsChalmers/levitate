{
 "cells": [
  {
   "cell_type": "code",
   "execution_count": null,
   "metadata": {
    "collapsed": true
   },
   "outputs": [],
   "source": [
    "%qtconsole"
   ]
  },
  {
   "cell_type": "code",
   "execution_count": null,
   "metadata": {
    "collapsed": false
   },
   "outputs": [],
   "source": [
    "import numpy as np\n",
    "import matplotlib.pyplot as plt\n",
    "import scipy.signal as signal\n",
    "from scipy.fftpack import fft, fftfreq\n",
    "from parametricaudio import ParametricAudioModel\n",
    "\n",
    "from bokeh.plotting import figure, show, output_notebook\n",
    "from bokeh.models import ColumnDataSource\n",
    "from bokeh.layouts import gridplot\n",
    "output_notebook()\n",
    "\n",
    "dB = lambda x: 20*np.log10(np.abs(x))"
   ]
  },
  {
   "cell_type": "markdown",
   "metadata": {},
   "source": [
    "## Model \n",
    "Creates a model for the parametric audio system.\n",
    "To avoid the kinks from applying the modulation, the carrier is padded a number of cycles at each end, without modulation.\n",
    "The input signal is smoothed at both ends to avoid the sharp transision between modulation and no modulation."
   ]
  },
  {
   "cell_type": "code",
   "execution_count": null,
   "metadata": {
    "collapsed": false
   },
   "outputs": [],
   "source": [
    "fs=192e3 # Default for 40kHz carrier\n",
    "#fs=450e3\n",
    "model = ParametricAudioModel(\n",
    "    modulation='sqrt',demodulation='envelope',\n",
    "    fs=fs,padcycles=100,windowcycles=400,\n",
    "    lpf=True,equalize='frequency')"
   ]
  },
  {
   "cell_type": "markdown",
   "metadata": {},
   "source": [
    "## Two sines\n",
    "An input signal consisting of two sine waves, without noise."
   ]
  },
  {
   "cell_type": "code",
   "execution_count": null,
   "metadata": {
    "collapsed": false
   },
   "outputs": [],
   "source": [
    "periods = 200.33\n",
    "f0 = 1.13e3\n",
    "f0=1e3\n",
    "#f0=200\n",
    "n = np.ceil(periods*fs/f0).astype('int')\n",
    "n=2**15\n",
    "t=np.arange(n)/fs\n",
    "\n",
    "inputsignal = np.sin(2*np.pi*f0*t) + 0.5*np.sin(4.5*np.pi*f0*t)\n",
    "inputsignal = inputsignal/np.max(np.abs(inputsignal))\n",
    "outputsignal = model(inputsignal)"
   ]
  },
  {
   "cell_type": "code",
   "execution_count": null,
   "metadata": {
    "collapsed": false
   },
   "outputs": [],
   "source": [
    "f1 = figure()\n",
    "f1.line(t,inputsignal,legend='Input')\n",
    "#f1.line(model.t,model.signal,legend='Equalized signal',color='orange')\n",
    "f1.line(t,outputsignal,legend='Output',color='Green')\n",
    "#ax[0].plot(inputsignal[idx],label='Input',linewidth=4)\n",
    "#ax[0].plot(outputsignal[idx],label='Output')\n",
    "#ax[0].plot(model.window[idx],label='Window')\n",
    "#ax[0].legend(loc='lower right')\n",
    "#ax[0].set_title('Time signals')\n",
    "\n",
    "f2 = figure(x_axis_type='log')\n",
    "f2.line(fftfreq(inputsignal.size,1/fs),dB(fft(inputsignal)),legend='Input')\n",
    "#f2.line(fftfreq(model.signal.size,1/fs),dB(fft(model.signal)),legend='Equalized input',color='orange')\n",
    "f2.line(fftfreq(outputsignal.size,1/fs),dB(fft(outputsignal)),legend='Output',color='green')\n",
    "p = gridplot([[f1],[f2]])\n",
    "show(p)\n",
    "#ax[1].semilogx(f[idx],dB(inputspectrum[idx]),label='Input',linewidth=4)\n",
    "#ax[1].semilogx(f[idx],dB(outputspectrum[idx]),label='Output')\n",
    "#ax[1].legend()\n",
    "#ax[1].set_title('Frequency spectra')\n",
    "#mpld3.display()\n",
    "#plt.show()"
   ]
  },
  {
   "cell_type": "markdown",
   "metadata": {},
   "source": [
    "## Noisy sine signal"
   ]
  },
  {
   "cell_type": "code",
   "execution_count": null,
   "metadata": {
    "collapsed": true
   },
   "outputs": [],
   "source": [
    "periods = 100\n",
    "f0 = 1.13e3\n",
    "n = np.ceil(periods*fs/f0).astype('int')\n",
    "t=np.arange(n)/fs\n",
    "\n",
    "inputsignal = np.sin(2*np.pi*f0*t) +1*(2*np.random.rand(n)-1)\n",
    "inputsignal = (2*np.random.rand(n)-1)\n",
    "lpf = signal.iirfilter(6,24e3/(fs/2),btype='low')\n",
    "inputsignal = signal.lfilter(lpf[0], lpf[1], inputsignal)\n",
    "inputsignal = inputsignal/np.max(np.abs(inputsignal))\n",
    "outputsignal = model(inputsignal)"
   ]
  },
  {
   "cell_type": "code",
   "execution_count": null,
   "metadata": {
    "collapsed": false
   },
   "outputs": [],
   "source": [
    "idx = np.arange(np.floor(10/periods*n).astype('int'))\n",
    "fig,ax = plt.subplots(2,1,figsize=(12,12))\n",
    "ax[0].plot(inputsignal[idx],label='Input',linewidth=4)\n",
    "ax[0].plot(outputsignal[idx],label='Output')\n",
    "ax[0].plot(model.window[idx],label='Window')\n",
    "ax[0].legend(loc='lower right')\n",
    "ax[0].set_title('Time signals')\n",
    "\n",
    "inputspectrum = fft(inputsignal)/n\n",
    "outputspectrum = fft(outputsignal)/n\n",
    "f = fftfreq(n,1/fs)\n",
    "idx=(f<20e3) & (f>100)\n",
    "\n",
    "ax[1].semilogx(f[idx],dB(inputspectrum[idx]),label='Input',linewidth=4)\n",
    "ax[1].semilogx(f[idx],dB(outputspectrum[idx]),label='Output')\n",
    "ax[1].legend()\n",
    "ax[1].set_title('Frequency spectra')\n",
    "mpld3.display()"
   ]
  },
  {
   "cell_type": "markdown",
   "metadata": {},
   "source": [
    "## Pure noise signal"
   ]
  },
  {
   "cell_type": "code",
   "execution_count": null,
   "metadata": {
    "collapsed": true
   },
   "outputs": [],
   "source": [
    "periods = 100\n",
    "f0 = 1.13e3\n",
    "n = np.ceil(periods*fs/f0).astype('int')\n",
    "t=np.arange(n)/fs\n",
    "\n",
    "inputsignal = 1*(2*np.random.rand(n)-1)\n",
    "lpf = signal.iirfilter(6,24e3/(fs/2),btype='low')\n",
    "inputsignal = signal.lfilter(lpf[0], lpf[1], inputsignal)\n",
    "inputsignal = inputsignal/np.max(np.abs(inputsignal))\n",
    "outputsignal = model(inputsignal)"
   ]
  },
  {
   "cell_type": "code",
   "execution_count": null,
   "metadata": {
    "collapsed": false
   },
   "outputs": [],
   "source": [
    "idx = np.arange(np.floor(10/periods*n).astype('int'))\n",
    "fig,ax = plt.subplots(2,1,figsize=(12,12))\n",
    "ax[0].plot(inputsignal[idx],label='Input',linewidth=4)\n",
    "ax[0].plot(outputsignal[idx],label='Output')\n",
    "ax[0].plot(model.window[idx],label='Window')\n",
    "ax[0].legend(loc='lower right')\n",
    "ax[0].set_title('Time signals')\n",
    "\n",
    "inputspectrum = fft(inputsignal)/n\n",
    "outputspectrum = fft(outputsignal)/n\n",
    "f = fftfreq(n,1/fs)\n",
    "idx=(f<20e3) & (f>100)\n",
    "\n",
    "ax[1].semilogx(f[idx],dB(inputspectrum[idx]),label='Input',linewidth=4)\n",
    "ax[1].semilogx(f[idx],dB(outputspectrum[idx]),label='Output')\n",
    "ax[1].legend()\n",
    "ax[1].set_title('Frequency spectra')\n",
    "mpld3.display()"
   ]
  }
 ],
 "metadata": {
  "kernelspec": {
   "display_name": "Python 3",
   "language": "python",
   "name": "python3"
  },
  "language_info": {
   "codemirror_mode": {
    "name": "ipython",
    "version": 3
   },
   "file_extension": ".py",
   "mimetype": "text/x-python",
   "name": "python",
   "nbconvert_exporter": "python",
   "pygments_lexer": "ipython3",
   "version": "3.6.0"
  }
 },
 "nbformat": 4,
 "nbformat_minor": 2
}
