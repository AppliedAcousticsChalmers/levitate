{
 "cells": [
  {
   "cell_type": "code",
   "execution_count": null,
   "metadata": {},
   "outputs": [],
   "source": [
    "%qtconsole"
   ]
  },
  {
   "cell_type": "code",
   "execution_count": null,
   "metadata": {},
   "outputs": [],
   "source": [
    "import numpy as np\n",
    "import pandas as pd\n",
    "import matplotlib.pyplot as plt\n",
    "\n",
    "import scipy.signal as signal\n",
    "from scipy.fftpack import fft, ifft, fftfreq\n",
    "from configparser import ConfigParser\n",
    "\n",
    "import sys\n",
    "sys.path.insert(0,'..')\n",
    "from levitate.nonlinear import hammersteinModel as hammerstein"
   ]
  },
  {
   "cell_type": "code",
   "execution_count": null,
   "metadata": {},
   "outputs": [],
   "source": [
    "folder = '../Measurements/Modulated noise/'\n",
    "config = ConfigParser()\n",
    "config.read(folder + 'settings.ini')\n",
    "fs = float(config['General']['fs'])\n",
    "nSamples=int(float(config['General']['blocklength']))\n",
    "resamplings=int(float(config['General']['resamplings']))\n",
    "\n",
    "fnames = ['F'+str(i+1) for i in range(resamplings)]\n",
    "#timedata={}\n",
    "timedata = pd.concat([\n",
    "    pd.read_csv(folder + fnames[i] + '.txt',delimiter='\\t')\n",
    "    for i in range(resamplings)], axis=1, keys=fnames,names=['File','Channel'])\n",
    "#for i in range(resamplings):\n",
    "#    timedata[str(i+1)] = pd.read_csv(folder+'/'+str(i+1)+'.txt',delimiter='\\t')\n",
    "#timedata=pd.Panel(timedata)"
   ]
  },
  {
   "cell_type": "code",
   "execution_count": null,
   "metadata": {},
   "outputs": [],
   "source": [
    "frequencydata=timedata.apply(fft)/nSamples/3.55e-3\n",
    "db=lambda x: 20*np.log10(np.abs(x)/20e-6)\n",
    "lpf = signal.iirfilter(12,20e3*2/fs,btype='lowpass')\n",
    "lowcut = lambda x: signal.lfilter(lpf[0],lpf[1],x) \n",
    "filteredinputs = timedata.drop(['Output','Reference'],axis=1,level='Channel').apply(lowcut)\n",
    "def approx(inp,out):\n",
    "    model = hammerstein(kernel='gaussian',npoints=nSamples)\n",
    "    model.approximateNonlinearity(inp,out)\n",
    "    return model.rawApprox[1]\n",
    "#approximated = filteredinputs.apply(lambda x: approx( timedata[x.name[0]]['Reference'],x))\n",
    "\n"
   ]
  },
  {
   "cell_type": "code",
   "execution_count": null,
   "metadata": {},
   "outputs": [],
   "source": []
  }
 ],
 "metadata": {
  "kernelspec": {
   "display_name": "Python 3",
   "language": "python",
   "name": "python3"
  },
  "language_info": {
   "codemirror_mode": {
    "name": "ipython",
    "version": 3
   },
   "file_extension": ".py",
   "mimetype": "text/x-python",
   "name": "python",
   "nbconvert_exporter": "python",
   "pygments_lexer": "ipython3",
   "version": "3.6.0"
  }
 },
 "nbformat": 4,
 "nbformat_minor": 2
}
