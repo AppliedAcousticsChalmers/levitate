{
 "cells": [
  {
   "cell_type": "code",
   "execution_count": null,
   "metadata": {},
   "outputs": [],
   "source": [
    "import sys\n",
    "sys.path.insert(0,'..')\n",
    "import numpy as np\n",
    "from levitate.nonlinear import hammersteinModel\n",
    "import scipy.signal as signal\n",
    "from scipy.fftpack import fft,ifft,fftfreq\n",
    "\n",
    "from bokeh.plotting import figure, show, output_notebook\n",
    "from bokeh.models import ColumnDataSource\n",
    "from bokeh.layouts import gridplot\n",
    "output_notebook()\n",
    "db = lambda x: 20*np.log10(np.abs(x))"
   ]
  },
  {
   "cell_type": "code",
   "execution_count": null,
   "metadata": {},
   "outputs": [],
   "source": [
    "n=2**12\n",
    "fs=192e3\n",
    "inp = (2*np.random.rand(n)-1)\n",
    "t=np.arange(n)/fs\n",
    "f=fftfreq(n,1/fs)\n",
    "\n",
    "demodulate = lambda x: np.r_[0,np.diff(x**2,2),0]\n",
    "\n",
    "lpf = signal.iirfilter(6,2*24e3/fs,btype='low')\n",
    "inp = signal.lfilter(lpf[0],lpf[1],inp)\n",
    "\n",
    "inpspec = fft(inp)\n",
    "out = demodulate(inp)\n",
    "outspec = fft(out)\n",
    "\n",
    "model = hammersteinModel(npoints=1e3)\n",
    "model.approximateNonlinearity(inp,out)"
   ]
  },
  {
   "cell_type": "code",
   "execution_count": null,
   "metadata": {},
   "outputs": [],
   "source": [
    "fig=figure()\n",
    "x=np.linspace(-1,1,1e3)\n",
    "fig.line(x,model.nonlinearity(x))\n",
    "show(fig)"
   ]
  },
  {
   "cell_type": "code",
   "execution_count": null,
   "metadata": {},
   "outputs": [],
   "source": [
    "fig = figure(x_axis_type='log')\n",
    "fig.line(f,db(inpspec))\n",
    "fig.line(f,db(outspec),color='orange')\n",
    "show(fig)"
   ]
  }
 ],
 "metadata": {
  "kernelspec": {
   "display_name": "Python 3",
   "language": "python",
   "name": "python3"
  },
  "language_info": {
   "codemirror_mode": {
    "name": "ipython",
    "version": 3
   },
   "file_extension": ".py",
   "mimetype": "text/x-python",
   "name": "python",
   "nbconvert_exporter": "python",
   "pygments_lexer": "ipython3",
   "version": "3.6.0"
  }
 },
 "nbformat": 4,
 "nbformat_minor": 2
}
