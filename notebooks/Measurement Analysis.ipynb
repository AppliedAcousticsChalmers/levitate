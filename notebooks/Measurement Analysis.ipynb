{
 "cells": [
  {
   "cell_type": "code",
   "execution_count": null,
   "metadata": {},
   "outputs": [],
   "source": [
    "%qtconsole"
   ]
  },
  {
   "cell_type": "code",
   "execution_count": null,
   "metadata": {},
   "outputs": [],
   "source": [
    "import numpy as np\n",
    "import pandas as pd\n",
    "from scipy.fftpack import fft, ifft, fftfreq\n",
    "import scipy.signal as signal\n",
    "import matplotlib.pyplot as plt\n",
    "from configparser import ConfigParser"
   ]
  },
  {
   "cell_type": "code",
   "execution_count": null,
   "metadata": {},
   "outputs": [],
   "source": [
    "folder = 'Equal levels close/Mid ch1234'\n",
    "folder = 'New board/' + folder\n",
    "folder = '../Measurements/' + folder + '/'\n",
    "config = ConfigParser()\n",
    "config.read(folder + 'settings.ini')\n",
    "\n",
    "timedata=pd.read_csv(folder + 'F1.txt',delimiter='\\t')\n",
    "n=len(timedata)\n",
    "fs=float(config['General']['fs'])\n",
    "\n",
    "calibration = float(config['General']['Microphone calibration'])#3.55e-3 # mV/P\n",
    "#calibration = 10**((-49.4-.4)/20)\n",
    "dB = lambda x: 20*np.log10(np.abs(x))\n",
    "dBuSPL = lambda x: 20*np.log10(np.abs(x)/(20e-6*calibration))\n",
    "dBu2SPL = lambda x: 10*np.log10(np.abs(x)/(20e-6*calibration)**2)\n",
    "\n",
    "spectrogram=timedata.apply(lambda x: signal.spectrogram(x,fs=fs,nperseg=2**15,scaling='spectrum'))\n",
    "win = signal.windows.flattop(n)\n",
    "#win = signal.windows.boxcar(n)\n",
    "frequencydata=timedata.apply(lambda x:fft(x*win),raw=True)/win.sum()\n",
    "f=fftfreq(n,1/fs)"
   ]
  },
  {
   "cell_type": "code",
   "execution_count": null,
   "metadata": {},
   "outputs": [],
   "source": [
    "channel='Microphone'\n",
    "plotType = 'Response' # 'Spectrogram' 'Response'\n",
    "scale = 'SPL' # 'SPL' 'dB' 'V' 'Pa' \n",
    "fc = 44e3\n",
    "fd = 200\n",
    "fMin = fc-fd\n",
    "fMax = fc+fd\n",
    "#fMin = 0e3\n",
    "#fMax = 250e3\n",
    "dBMin = None\n",
    "dBMax = None\n",
    "\n",
    "if plotType == 'Spectrogram':\n",
    "    if scale == 'SPL':\n",
    "        fun = dBu2SPL\n",
    "    elif scale == 'dB':\n",
    "        fun = dB\n",
    "    elif scale == 'Pa' :\n",
    "        fun = lambda x: x/20e-6/calibration\n",
    "    else:\n",
    "        fun = lambda x: x\n",
    "        \n",
    "    fIdx = (spectrogram[channel][0]>fMin) & (spectrogram[channel][0]<fMax) \n",
    "    plt.pcolormesh(spectrogram[channel][1],\n",
    "                   spectrogram[channel][0][fIdx],\n",
    "                   fun(spectrogram[channel][2][fIdx]),\n",
    "                   vmin=dBMin,vmax=dBMax)              \n",
    "#    plt.ylim((fMin,fMax))\n",
    "    plt.colorbar()\n",
    "    plt.show()\n",
    "else:\n",
    "    if scale == 'SPL':\n",
    "        fun = dBuSPL\n",
    "    elif scale == 'dB':\n",
    "        fun = dB\n",
    "    elif scale == 'Pa' :\n",
    "        fun = lambda x: np.abs(x)/20e-6/calibration\n",
    "    else:\n",
    "        fun = lambda x: np.abs(x)\n",
    "    \n",
    "    fIdx = (f>fMin) & (f<fMax)\n",
    "    plt.plot(f[fIdx],fun(frequencydata[channel][fIdx]))\n",
    "    plt.ylim(ymin=dBMin,ymax=dBMax)\n",
    "    plt.show()\n",
    "    maxVal = np.max(fun(frequencydata[channel][fIdx]))\n",
    "    print('Max value in \"{}\": {:.1f} {}'.format(\n",
    "        channel, maxVal, scale\n",
    "        ))    "
   ]
  },
  {
   "cell_type": "code",
   "execution_count": null,
   "metadata": {},
   "outputs": [],
   "source": [
    "channel_1 = 'Microphone'\n",
    "channel_2 = 'Signal'\n",
    "fMin = 30e3\n",
    "fMax = 50e3\n",
    "\n",
    "response = frequencydata[channel_1]/frequencydata[channel_2]\n",
    "idx = (f>fMin) & (f<fMax)\n",
    "plt.plot(f[idx],dB(response[idx]))\n",
    "plt.show()\n",
    "\n"
   ]
  }
 ],
 "metadata": {
  "kernelspec": {
   "display_name": "Python 3",
   "language": "python",
   "name": "python3"
  },
  "language_info": {
   "codemirror_mode": {
    "name": "ipython",
    "version": 3
   },
   "file_extension": ".py",
   "mimetype": "text/x-python",
   "name": "python",
   "nbconvert_exporter": "python",
   "pygments_lexer": "ipython3",
   "version": "3.6.0"
  }
 },
 "nbformat": 4,
 "nbformat_minor": 2
}
