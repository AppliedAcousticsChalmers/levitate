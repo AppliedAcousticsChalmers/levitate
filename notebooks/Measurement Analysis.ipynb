{
 "cells": [
  {
   "cell_type": "code",
   "execution_count": null,
   "metadata": {},
   "outputs": [],
   "source": [
    "%qtconsole"
   ]
  },
  {
   "cell_type": "code",
   "execution_count": null,
   "metadata": {},
   "outputs": [],
   "source": [
    "import numpy as np\n",
    "import pandas as pd\n",
    "from scipy.fftpack import fft, ifft, fftfreq\n",
    "import scipy.signal as signal\n",
    "import matplotlib.pyplot as plt\n",
    "from configparser import ConfigParser\n",
    "dB = lambda x: 20*np.log10(np.abs(x))\n",
    "calibration = 3.55e-3 # mV/Ps\n",
    "dBuSPL = lambda x: 20*np.log10(np.abs(x)/(20e-6*calibration))\n",
    "dBu2SPL = lambda x: 10*np.log10(np.abs(x)/(20e-6*calibration)**2)"
   ]
  },
  {
   "cell_type": "code",
   "execution_count": null,
   "metadata": {},
   "outputs": [],
   "source": [
    "folder = 'Two tones high load'\n",
    "folder = '../Measurements/' + folder + '/'\n",
    "config = ConfigParser()\n",
    "config.read(folder + 'settings.ini')\n",
    "\n",
    "calibration = 3.55e-3 # mV/Ps\n",
    "timedata=pd.read_csv(folder + 'F1.txt',delimiter='\\t')\n",
    "n=len(timedata)\n",
    "fs=float(config['General']['fs'])\n",
    "\n",
    "spectrogram=timedata.apply(lambda x: signal.spectrogram(x,fs=fs,nperseg=2**15,scaling='spectrum'))\n",
    "frequencydata=timedata.apply(fft,raw=True)/n\n",
    "f=fftfreq(n,1/fs)"
   ]
  },
  {
   "cell_type": "code",
   "execution_count": null,
   "metadata": {},
   "outputs": [],
   "source": [
    "spectrIdx='Modulated signal'\n",
    "plt.pcolormesh(spectrogram[spectrIdx][1],\n",
    "               spectrogram[spectrIdx][0],\n",
    "               db(spectrogram[spectrIdx][2]),\n",
    "              vmin=0,vmax=None)\n",
    "plt.ylim((30e3,45e3))\n",
    "plt.colorbar()\n",
    "plt.show()"
   ]
  },
  {
   "cell_type": "code",
   "execution_count": null,
   "metadata": {},
   "outputs": [],
   "source": [
    "spectrIdx='Amplifier'\n",
    "fMin = 38e3\n",
    "fMax = 42e3\n",
    "fIdx = (spectrogram[spectrIdx][0]>fMin) & (spectrogram[spectrIdx][0]<fMax) \n",
    "plt.pcolormesh(spectrogram[spectrIdx][1],\n",
    "               spectrogram[spectrIdx][0][fIdx],\n",
    "               dB(spectrogram[spectrIdx][2][fIdx]),\n",
    "               vmin=-100,vmax=-60)\n",
    "              \n",
    "plt.ylim((fMin,fMax))\n",
    "#plt.xlim(xmin=4.4,xmax=4.6)\n",
    "plt.colorbar()\n",
    "plt.show()"
   ]
  },
  {
   "cell_type": "code",
   "execution_count": null,
   "metadata": {},
   "outputs": [],
   "source": [
    "spectrIdx='Microphone'\n",
    "fMin = 71e3\n",
    "fMax = 73e3\n",
    "fIdx = (spectrogram[spectrIdx][0]>fMin) & (spectrogram[spectrIdx][0]<fMax) \n",
    "maxVal = np.max(dBu2SPL( spectrogram[spectrIdx][2][fIdx] ))\n",
    "plt.pcolormesh(spectrogram[spectrIdx][1],\n",
    "               spectrogram[spectrIdx][0][fIdx],\n",
    "               dBu2SPL(spectrogram[spectrIdx][2][fIdx]),\n",
    "               vmin=30,vmax=None)\n",
    "plt.ylim((fMin,fMax))\n",
    "#plt.xlim(xmin=4.4,xmax=4.6)\n",
    "plt.colorbar()\n",
    "plt.show()\n",
    "print('Maximum value: {:.1f} dB SPL'.format(maxVal))"
   ]
  },
  {
   "cell_type": "code",
   "execution_count": null,
   "metadata": {},
   "outputs": [],
   "source": [
    "idx='Amplifier'\n",
    "fMin = 1.9e3\n",
    "fMax = 2.1e3\n",
    "fIdx= (f>fMin) & (f<fMax)\n",
    "plt.plot(f[fIdx],dB(frequencydata[idx][fIdx]))\n",
    "#plt.xlim((26e3,46e3))\n",
    "plt.ylim(ymin=-100)\n",
    "print('Max value: {:.1f}'.format(np.max(dB(frequencydata[idx][fIdx]))))\n",
    "plt.show()"
   ]
  },
  {
   "cell_type": "code",
   "execution_count": null,
   "metadata": {},
   "outputs": [],
   "source": [
    "idx='Microphone'\n",
    "fMin = 42.9e3\n",
    "fMax = 43.1e3\n",
    "fIdx= (f>fMin) & (f<fMax)\n",
    "plt.plot(f[fIdx],dBuSPL(frequencydata[idx][fIdx]))\n",
    "#plt.xlim((26e3,46e3))\n",
    "plt.ylim(ymin=20)\n",
    "print('Max value: {:.1f}'.format(np.max(dBuSPL(frequencydata[idx][fIdx]))))\n",
    "plt.show()"
   ]
  }
 ],
 "metadata": {
  "kernelspec": {
   "display_name": "Python 3",
   "language": "python",
   "name": "python3"
  },
  "language_info": {
   "codemirror_mode": {
    "name": "ipython",
    "version": 3
   },
   "file_extension": ".py",
   "mimetype": "text/x-python",
   "name": "python",
   "nbconvert_exporter": "python",
   "pygments_lexer": "ipython3",
   "version": "3.6.0"
  }
 },
 "nbformat": 4,
 "nbformat_minor": 2
}
