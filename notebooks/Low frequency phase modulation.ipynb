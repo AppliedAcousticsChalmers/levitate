{
 "cells": [
  {
   "cell_type": "code",
   "execution_count": null,
   "metadata": {},
   "outputs": [],
   "source": [
    "import numpy as np\n",
    "from numpy.fft import fft, fftfreq\n",
    "import matplotlib.pyplot as plt"
   ]
  },
  {
   "cell_type": "code",
   "execution_count": null,
   "metadata": {},
   "outputs": [],
   "source": [
    "f_carrier = 40e3\n",
    "f_update = 1500\n",
    "f_sampling = 1e6\n",
    "f_modulate = 250\n",
    "\n",
    "P = 100  # Updates\n",
    "N = int(P * f_sampling / f_update) "
   ]
  },
  {
   "cell_type": "code",
   "execution_count": null,
   "metadata": {},
   "outputs": [],
   "source": [
    "t = np.arange(N)/f_sampling\n",
    "\n",
    "carrier = np.exp(1j*2*np.pi*f_carrier*t)\n",
    "modulator = np.exp(1j*2*np.pi*f_modulate*t)\n",
    "compund = modulator*carrier\n",
    "\n",
    "phase_step = f_modulate / f_update *2*np.pi\n",
    "current_phase = 0\n",
    "stepped_modulation = np.empty(N)\n",
    "updates = 0\n",
    "for idx in range(N):\n",
    "    if t[idx] > (updates+1)/f_update:\n",
    "        current_phase += phase_step\n",
    "        updates += 1\n",
    "    stepped_modulation[idx] = np.cos(2*np.pi*f_carrier*t[idx] + current_phase)\n"
   ]
  },
  {
   "cell_type": "code",
   "execution_count": null,
   "metadata": {},
   "outputs": [],
   "source": [
    "Compund = fft(compund.real)\n",
    "Carrier = fft(carrier.real)\n",
    "Stepped_modulation = fft(stepped_modulation)\n",
    "f = fftfreq(N,1/f_sampling)\n",
    "db = lambda x: 20*np.log10(np.abs(x))\n",
    "plt.semilogx(f, db(Compund))\n",
    "plt.semilogx(f, db(Carrier))\n",
    "plt.semilogx(f, db(Stepped_modulation))\n",
    "plt.xlim(30e3, 60e3)\n",
    "plt.legend(('Compund','Carrier','Stepped'))\n",
    "plt.show()"
   ]
  }
 ],
 "metadata": {
  "kernelspec": {
   "display_name": "Python 3",
   "language": "python",
   "name": "python3"
  },
  "language_info": {
   "codemirror_mode": {
    "name": "ipython",
    "version": 3
   },
   "file_extension": ".py",
   "mimetype": "text/x-python",
   "name": "python",
   "nbconvert_exporter": "python",
   "pygments_lexer": "ipython3",
   "version": "3.6.1"
  }
 },
 "nbformat": 4,
 "nbformat_minor": 2
}
