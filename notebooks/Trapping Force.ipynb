{
 "cells": [
  {
   "cell_type": "markdown",
   "metadata": {},
   "source": [
    "# Setup\n",
    "Imports, transducer type, array gemetry, local function definitions."
   ]
  },
  {
   "cell_type": "code",
   "execution_count": null,
   "metadata": {},
   "outputs": [],
   "source": [
    "import numpy as np\n",
    "import matplotlib.pyplot as plt\n",
    "from matplotlib.colors import LogNorm, Normalize\n",
    "\n",
    "from ipywidgets import IntProgress\n",
    "import multiprocessing\n",
    "import itertools\n",
    "\n",
    "import levitate\n",
    "\n",
    "def dB(val): return 20*np.log10(np.abs(val))\n",
    "def SPL(val): return dB(val/20e-6)\n",
    "def wrap_phase(phase): return np.mod(phase + np.pi, 2*np.pi) - np.pi\n",
    "def normalized(v, axis=None): return v / np.sum(v**2, axis=axis)**0.5"
   ]
  },
  {
   "cell_type": "code",
   "execution_count": null,
   "metadata": {},
   "outputs": [],
   "source": [
    "transducer = levitate.models.CircularRing(freq=40e3, effective_radius=2.9e-3)\n",
    "# transducer = levitate.models.ReflectingTransducer(\n",
    "#     levitate.models.CircularRing, effective_radius=2.9e-3, freq=40e3,\n",
    "#     plane_distance=0, plane_normal=(0,0,1), reflection_coefficient=-1)\n",
    "\n",
    "array_height = 10 * transducer.wavelength\n",
    "shape = (16, 16)\n",
    "t_size = 10e-3\n",
    "# grid = levitate.models.rectangular_grid(shape=shape, spread=t_size, offset=(0,0,-array_height/2))\n",
    "grid = levitate.models.double_sided_grid(separation=array_height, offset=(0,0,-array_height/2), shape=shape, spread=t_size)\n",
    "\n",
    "array = levitate.models.TransducerArray(transducer_model=transducer, grid=grid)\n",
    "mg = 25 * 1e-3**3 * 4 / 3 * np.pi * 9.82\n",
    "def find_trap(start_pos, step_size=100e-6, path_callback=lambda pos:None, recursive=24, tol=0):\n",
    "    this_pos = np.asarray(start_pos).copy()\n",
    "    this_force = normalized(-levitate.optimization.gorkov_divergence(array, this_pos)(array.phases_amplitudes) - np.array([0,0,mg]))\n",
    "    for _ in range(250):\n",
    "        next_pos = this_pos + step_size * this_force\n",
    "        next_force = normalized(-levitate.optimization.gorkov_divergence(array, next_pos)(array.phases_amplitudes) - np.array([0,0,mg]))\n",
    "        if np.sum(this_force * next_force)> 0:\n",
    "            path_callback(this_pos.copy())\n",
    "            this_pos = next_pos\n",
    "            this_force = next_force\n",
    "        else:\n",
    "            break\n",
    "\n",
    "    if recursive <= 0 or step_size < tol:\n",
    "        path_callback(this_pos)\n",
    "        return this_pos\n",
    "    else:\n",
    "        return find_trap(this_pos, step_size / 2, path_callback, recursive-1)"
   ]
  },
  {
   "cell_type": "markdown",
   "metadata": {},
   "source": [
    "# Calculations"
   ]
  },
  {
   "cell_type": "code",
   "execution_count": null,
   "metadata": {},
   "outputs": [],
   "source": [
    "trap_pos = np.array([0, 0, 25e-3])\n",
    "array.phases = array.focus_phases(trap_pos)\n",
    "array.phases[array.num_transducers//2:] += np.pi\n",
    "array.amplitudes[:] = 1\n",
    "\n",
    "plot_pos = trap_pos"
   ]
  },
  {
   "cell_type": "markdown",
   "metadata": {},
   "source": [
    "# Visualizations"
   ]
  },
  {
   "cell_type": "markdown",
   "metadata": {},
   "source": [
    "## Transducers\n",
    "Visualize the transducer patterns and manually set the phases/amplitudes."
   ]
  },
  {
   "cell_type": "code",
   "execution_count": null,
   "metadata": {},
   "outputs": [],
   "source": [
    "array.visualize_transducers(phases=lambda p:wrap_phase(p)/np.pi, transducers='first_half')\n",
    "plt.show()\n",
    "array.visualize_transducers(phases=lambda p:wrap_phase(p)/np.pi, transducers='last_half')\n",
    "plt.show()"
   ]
  },
  {
   "cell_type": "markdown",
   "metadata": {},
   "source": [
    "## Force field\n",
    "Inspect the force field."
   ]
  },
  {
   "cell_type": "markdown",
   "metadata": {},
   "source": [
    "### Spatial Derivatives\n",
    "Pre calculation of the spatial derivatives. Only needs to run once for a certain array geometry."
   ]
  },
  {
   "cell_type": "code",
   "execution_count": null,
   "metadata": {},
   "outputs": [],
   "source": [
    "point_per_mm_xy = 3\n",
    "xy_min, xy_max = -10e-3, 5e-3\n",
    "z_min, z_max = -2.5e-3, 2.5e-3\n",
    "num_points = int((xy_max - xy_min) * point_per_mm_xy * 1e3) + 1\n",
    "x_force = np.linspace(xy_min, xy_max, num_points)\n",
    "y_force = np.linspace(xy_min, xy_max, num_points)\n",
    "z_force = np.linspace(z_min, z_max, num_points)\n",
    "progressbar_spatial_ders = IntProgress(description='Calculating:', min=0, max=len(x_force), value=0)\n",
    "display(progressbar_spatial_ders)\n",
    "spatial_derivatives = np.empty((len(x_force), len(y_force), len(z_force)), dtype=dict)\n",
    "\n",
    "def work_spatial_ders(x_idx):\n",
    "    spat_der_sub = np.empty((len(y_force), len(z_force)), dtype=dict)\n",
    "    for  y_idx, z_idx in itertools.product(range(len(y_force)), range(len(z_force))):\n",
    "        spat_der_sub[y_idx, z_idx] = array.spatial_derivatives(np.array([x_force[x_idx],y_force[y_idx],z_force[z_idx]]))\n",
    "    return x_idx, spat_der_sub\n",
    "\n",
    "def callback_spat_ders(result):\n",
    "    x_idx, spat_der_sub = result\n",
    "    spatial_derivatives[x_idx] = spat_der_sub\n",
    "    progressbar_spatial_ders.value += 1\n",
    "    if progressbar_spatial_ders.value == len(x_force):\n",
    "        progressbar_spatial_ders.description = 'Done'\n",
    "\n",
    "pool = multiprocessing.Pool(8)\n",
    "for x_idx in range(len(x_force)):\n",
    "    pool.apply_async(work_spatial_ders, [x_idx], callback=callback_spat_ders)\n",
    "pool.close()"
   ]
  },
  {
   "cell_type": "markdown",
   "metadata": {},
   "source": [
    "### Calculate and plot the field\n",
    "Calculate the force field for a pre-set array state."
   ]
  },
  {
   "cell_type": "code",
   "execution_count": null,
   "metadata": {},
   "outputs": [],
   "source": [
    "try:\n",
    "    plot_pos\n",
    "except NameError:\n",
    "    plot_pos = np.array([0,0,0])\n",
    "\n",
    "Fx = np.zeros(spatial_derivatives.shape)\n",
    "Fy = np.zeros(spatial_derivatives.shape)\n",
    "Fz = np.zeros(spatial_derivatives.shape)\n",
    "progressbar_force = IntProgress(description='Calculating', min=0, max=len(x_force), value=0)\n",
    "display(progressbar_force)\n",
    "\n",
    "def work_force(x_idx):\n",
    "    Fx_sub = np.empty(spatial_derivatives[x_idx].shape)\n",
    "    Fy_sub = np.empty(spatial_derivatives[x_idx].shape)\n",
    "    Fz_sub = np.empty(spatial_derivatives[x_idx].shape)\n",
    "    for y_idx, z_idx in itertools.product(range(len(y_force)), range(len(z_force))):\n",
    "        Fx_sub[y_idx, z_idx], Fy_sub[y_idx, z_idx], Fz_sub[y_idx, z_idx] = -levitate.optimization.gorkov_divergence(\n",
    "            array, None, spatial_derivatives=spatial_derivatives[x_idx, y_idx, z_idx])(array.phases_amplitudes)\n",
    "    return x_idx, Fx_sub, Fy_sub, Fz_sub\n",
    "\n",
    "def callback_force(result):\n",
    "    x_idx, Fx_sub, Fy_sub, Fz_sub = result\n",
    "    Fx[x_idx] = Fx_sub\n",
    "    Fy[x_idx] = Fy_sub\n",
    "    Fz[x_idx] = Fz_sub - mg\n",
    "    progressbar_force.value += 1\n",
    "    if progressbar_force.value == len(x_force):\n",
    "        progressbar_force.description = 'Done'\n",
    "\n",
    "# We can switch to multiprocessing of there are a lot of points where we want to calculate the field.\n",
    "pool = multiprocessing.Pool(8)\n",
    "for x_idx in range(len(spatial_derivatives)):\n",
    "    pool.apply_async(work_force, [x_idx], callback=callback_force)\n",
    "#     callback_force(work_force(x_idx))\n",
    "pool.close()\n",
    "pool.join()\n",
    "\n",
    "\n",
    "Fxy = (Fx**2 + Fy**2)**0.5\n",
    "Fxz = (Fx**2 + Fz**2)**0.5\n",
    "F = (Fx**2 + Fy**2 + Fz**2)**0.5\n",
    "\n",
    "x_idx = np.argmin(abs(x_force-plot_pos[0]))\n",
    "y_idx = np.argmin(abs(y_force-plot_pos[1]))\n",
    "z_idx = np.argmin(abs(z_force-plot_pos[2]))\n",
    "\n",
    "plt.quiver(\n",
    "    x_force*1e3, y_force*1e3,\n",
    "    Fx[:, :, z_idx].T/Fxy[:, :, z_idx].T,\n",
    "    Fy[:, :, z_idx].T/Fxy[:, :, z_idx].T,\n",
    "    Fxy[:, :, z_idx].T*1e6, cmap='viridis',\n",
    "    norm=LogNorm(1, 100),\n",
    "    scale=100, scale_units='width', headlength=3, headaxislength=3, pivot='tip',\n",
    ")\n",
    "plt.colorbar()\n",
    "plt.scatter(plot_pos[0]*1e3, plot_pos[1]*1e3, color='red')\n",
    "plt.show()\n",
    "\n",
    "if Fx.shape[2] > 1:\n",
    "    plt.quiver(x_force*1e3, z_force*1e3,\n",
    "        Fx[:, y_idx, :].T/Fxz[:, y_idx, :].T,\n",
    "        Fz[:, y_idx, :].T/Fxz[:, y_idx, :].T,\n",
    "        Fxz[:, y_idx, :].T*1e6, cmap='viridis',\n",
    "        norm=LogNorm(1, 100),\n",
    "        scale=100, scale_units='width', headlength=3, headaxislength=3, pivot='tip',\n",
    "    )\n",
    "    plt.colorbar()\n",
    "    plt.scatter(plot_pos[0]*1e3, plot_pos[2]*1e3, color='red')\n",
    "    plt.show()"
   ]
  },
  {
   "cell_type": "markdown",
   "metadata": {},
   "source": [
    "## Pressure Field"
   ]
  },
  {
   "cell_type": "code",
   "execution_count": null,
   "metadata": {},
   "outputs": [],
   "source": [
    "resolution_p = transducer.wavelength / 50\n",
    "p_range = (130, 165)\n",
    "\n",
    "xp_min, xp_max = np.min(array.transducer_positions[:, 0]), np.max(array.transducer_positions[:, 0])\n",
    "# xp_min, xp_max = -20e-3, 20e-3\n",
    "zp_min, zp_max = -array_height/2 + 2*resolution_p, array_height/2 - 2*resolution_p\n",
    "# zp_min, zp_max = -5e-3, 5e-3\n",
    "\n",
    "xz_mesh = np.meshgrid(np.arange(xp_min, xp_max, resolution_p), np.arange(zp_min, zp_max, resolution_p), indexing='ij')\n",
    "pressures_xz = np.squeeze(array.calculate_pressure((xz_mesh[0], plot_pos[1]*np.ones_like(xz_mesh[0]), xz_mesh[1])))\n",
    "\n",
    "\n",
    "plt.pcolormesh(1e3*xz_mesh[0], 1e3*xz_mesh[1], SPL(pressures_xz))\n",
    "plt.xlabel('x')\n",
    "plt.ylabel('z')\n",
    "plt.clim(p_range)\n",
    "plt.colorbar()\n",
    "plt.scatter(plot_pos[0]*1e3, plot_pos[2]*1e3, color='red')\n",
    "plt.show()"
   ]
  }
 ],
 "metadata": {
  "kernelspec": {
   "display_name": "Python 3",
   "language": "python",
   "name": "python3"
  },
  "language_info": {
   "codemirror_mode": {
    "name": "ipython",
    "version": 3
   },
   "file_extension": ".py",
   "mimetype": "text/x-python",
   "name": "python",
   "nbconvert_exporter": "python",
   "pygments_lexer": "ipython3",
   "version": "3.6.4"
  }
 },
 "nbformat": 4,
 "nbformat_minor": 2
}
