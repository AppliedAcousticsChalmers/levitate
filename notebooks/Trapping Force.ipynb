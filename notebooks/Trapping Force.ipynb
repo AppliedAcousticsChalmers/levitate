{
 "cells": [
  {
   "cell_type": "code",
   "execution_count": null,
   "metadata": {},
   "outputs": [],
   "source": [
    "%qtconsole"
   ]
  },
  {
   "cell_type": "code",
   "execution_count": null,
   "metadata": {},
   "outputs": [],
   "source": [
    "import numpy as np\n",
    "import matplotlib.pyplot as plt\n",
    "import levitate\n",
    "from importlib import reload\n"
   ]
  },
  {
   "cell_type": "code",
   "execution_count": null,
   "metadata": {},
   "outputs": [],
   "source": [
    "transducer = levitate.models.CircularRing(freq=40e3, effective_radius=2.9e-3)\n",
    "array = levitate.models.TransducerArray(transducer_model=transducer)"
   ]
  },
  {
   "cell_type": "code",
   "execution_count": null,
   "metadata": {},
   "outputs": [],
   "source": [
    "loc = np.array([0, 0, 0.15])\n",
    "optim = levitate.optimization.Optimizer(array)\n",
    "gorkov = levitate.optimization.gorkov_laplacian(array=array, location=loc, weights=(1e-3, -1, -1, -100))\n",
    "optim.objectives.append(gorkov)"
   ]
  },
  {
   "cell_type": "code",
   "execution_count": null,
   "metadata": {},
   "outputs": [],
   "source": [
    "starting_phase = np.random.uniform(-np.pi, np.pi, array.num_transducers)\n",
    "array.phases = starting_phase\n",
    "array.amplitudes = np.ones(array.num_transducers)"
   ]
  },
  {
   "cell_type": "code",
   "execution_count": null,
   "metadata": {},
   "outputs": [],
   "source": [
    "optim.basinhopping = True\n",
    "optim.variable_amplitudes = True\n",
    "# %timeit optim.func_and_jac(array.phases)\n",
    "# %snakeviz optim()\n",
    "# %lprun -f optim.func_and_jac optim()\n",
    "optim()\n",
    "array.phases = np.mod(optim.phases + np.pi,2*np.pi)-np.pi\n",
    "array.amplitudes = optim.amplitudes"
   ]
  },
  {
   "cell_type": "code",
   "execution_count": null,
   "metadata": {},
   "outputs": [],
   "source": [
    "plot_loc = loc\n",
    "p_scale = lambda p: 20*np.log10(np.abs(p)) + 94\n",
    "p_range = (140, 160)\n",
    "resolution = array.wavelength/15\n",
    "xz_mesh = np.meshgrid(np.arange(-0.1, 0.1, resolution), np.arange(0, 0.3, resolution), indexing='ij')\n",
    "pressures_xz = np.squeeze(array.calculate_pressure((xz_mesh[0], plot_loc[1]*np.ones_like(xz_mesh[0]), xz_mesh[1])))\n",
    "\n",
    "fig = plt.figure()\n",
    "plt.pcolormesh(xz_mesh[0], xz_mesh[1], p_scale(pressures_xz))\n",
    "plt.xlabel('x')\n",
    "plt.ylabel('z')\n",
    "plt.clim(p_range)\n",
    "plt.colorbar()\n",
    "plt.plot(loc[0], loc[2], color='red', marker='o', markerfacecolor='red')\n",
    "fig.show()"
   ]
  },
  {
   "cell_type": "code",
   "execution_count": null,
   "metadata": {},
   "outputs": [],
   "source": [
    "x_range = np.arange(-5e-3, 5e-3, resolution) + loc[0]\n",
    "x_force = []\n",
    "for x in x_range:\n",
    "    force_calc = levitate.optimization.gorkov_divergence(array, (x, loc[1], loc[2]))\n",
    "    x_force.append(force_calc(optim.result.x))\n",
    "x_force = -np.array(x_force)\n",
    "plt.plot(x_range*1e3, x_force)\n",
    "plt.title('Forces moving along x-axis')\n",
    "plt.xlabel('x in mm')\n",
    "plt.ylabel('Force in N')\n",
    "plt.legend(['F_x', 'F_y', 'F_z'])\n",
    "plt.show()\n",
    "\n",
    "y_range = np.arange(-5e-3, 5e-3, resolution) + loc[1]\n",
    "y_force = []\n",
    "for y in y_range:\n",
    "    force_calc = levitate.optimization.gorkov_divergence(array, (loc[0], y, loc[2]))\n",
    "    y_force.append(force_calc(optim.result.x))\n",
    "y_force = -np.array(y_force)\n",
    "plt.plot(y_range*1e3, y_force)\n",
    "plt.title('Forces moving along y-axis')\n",
    "plt.xlabel('y in mm')\n",
    "plt.ylabel('Force in N')\n",
    "plt.legend(['F_x', 'F_y', 'F_z'])\n",
    "plt.show()\n",
    "\n",
    "z_range = np.arange(-5e-3, 5e-3, resolution) + loc[2]\n",
    "z_force = []\n",
    "for z in z_range:\n",
    "    force_calc = levitate.optimization.gorkov_divergence(array, (loc[0], loc[1], z))\n",
    "    z_force.append(force_calc(optim.result.x))\n",
    "z_force = -np.array(z_force)\n",
    "plt.plot(z_range*1e3, z_force)\n",
    "plt.title('Forces moving along z-axis')\n",
    "plt.xlabel('z in mm')\n",
    "plt.ylabel('Force in N')\n",
    "plt.legend(['F_x', 'F_y', 'F_z'])\n",
    "plt.show()"
   ]
  }
 ],
 "metadata": {
  "kernelspec": {
   "display_name": "Python 3",
   "language": "python",
   "name": "python3"
  },
  "language_info": {
   "codemirror_mode": {
    "name": "ipython",
    "version": 3
   },
   "file_extension": ".py",
   "mimetype": "text/x-python",
   "name": "python",
   "nbconvert_exporter": "python",
   "pygments_lexer": "ipython3",
   "version": "3.6.4"
  }
 },
 "nbformat": 4,
 "nbformat_minor": 2
}
