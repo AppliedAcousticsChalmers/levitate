{
 "cells": [
  {
   "cell_type": "markdown",
   "metadata": {},
   "source": [
    "# Distortion from transducer board\n",
    "We made a measurement of the harmonic distortion in the output from the ultrahaptics board and out own self made board.\n",
    "\n",
    "### Ultrahaptics board\n",
    "- Low level access API using constant amplitude of 1.\n",
    "- Square driving signal between 0 and +20 V at 40 kHz.\n",
    "\n",
    "### Self-made board\n",
    "- 16 transducers in parallel connection, in a 4x4 grid.\n",
    "- Sinusoidal driving signal at 40 kHz.\n",
    "- Driven by audio amplifier giving 20 V amplitude.\n",
    "\n",
    "### Measuement setup\n",
    "- Extends to 500 kHz.\n",
    "- Microphone is calibrated to 140 kHz, so the amplitudes above that are not precise.\n"
   ]
  },
  {
   "cell_type": "code",
   "execution_count": null,
   "metadata": {},
   "outputs": [],
   "source": [
    "import numpy as np\n",
    "import pandas as pd\n",
    "from scipy.fftpack import fft, ifft, fftfreq\n",
    "import scipy.signal as signal\n",
    "import matplotlib.pyplot as plt\n",
    "from configparser import ConfigParser\n",
    "folder = '../Measurements/Distortion comparison/'\n",
    "config = ConfigParser()\n",
    "\n",
    "dB = lambda x: 20*np.log10(np.abs(x)/20e-6*2**0.5) \n",
    "# Extra scaling to calculate SPL (RMS) from single sided spectrum\n",
    "dBmax = 135\n",
    "dBmin = 15\n",
    "fMin = 1e3\n",
    "fMax = 500e3\n",
    "\n",
    "def processData(name):\n",
    "    data = pd.read_csv(folder + name +'/F1.txt',delimiter='\\t')\n",
    "    data.drop('Signal',axis=1,inplace=True)\n",
    "    data.rename(columns={'Microphone':'Signal'},inplace=True)\n",
    "    config.read(folder + name + '/settings.ini')\n",
    "    n=len(data)\n",
    "    fs=float(config['General']['fs'])\n",
    "    win = signal.windows.boxcar(n)\n",
    "    win = signal.windows.flattop(n)\n",
    "    calibration = float(config['General']['Microphone calibration'])\n",
    "    data=data/calibration\n",
    "    data = pd.concat([data, \n",
    "                      data.rename(columns={'Signal':'Spectrum'}).\n",
    "                      apply(lambda x:fft(x*win)/win.sum(),raw=True)],axis=1)\n",
    "    data['t'] = np.arange(n)/fs\n",
    "    data['f'] = fftfreq(n,1/fs)\n",
    "    return data\n",
    "\n",
    "def levelAt(data,f):\n",
    "    fIdx = (data['f']>f*0.9) & (data['f']<f*1.1)\n",
    "    return np.max(dB(data['Spectrum'][fIdx]))"
   ]
  },
  {
   "cell_type": "code",
   "execution_count": null,
   "metadata": {},
   "outputs": [],
   "source": [
    "UH1trans = processData('UH single trans max amp')\n",
    "singletrans = processData('Single trans max amp')\n",
    "UH16trans = processData('UH 16 trans max amp')\n",
    "proto16trans = processData('Board16 max amp') "
   ]
  },
  {
   "cell_type": "code",
   "execution_count": null,
   "metadata": {},
   "outputs": [],
   "source": [
    "UH1trans40k = '{:.1f}'.format(levelAt(UH1trans,40e3))\n",
    "UH1trans80k = '{:.1f}'.format(levelAt(UH1trans,80e3)-levelAt(UH1trans,40e3))\n",
    "UH1trans120k = '{:.1f}'.format(levelAt(UH1trans,120e3)-levelAt(UH1trans,40e3))\n",
    "UH1trans160k = '{:.1f}'.format(levelAt(UH1trans,160e3)-levelAt(UH1trans,40e3))\n",
    "singletrans40k = '{:.1f}'.format(levelAt(singletrans,40e3))\n",
    "singletrans80k = '{:.1f}'.format(levelAt(singletrans,80e3)-levelAt(singletrans,40e3))\n",
    "singletrans120k = '{:.1f}'.format(levelAt(singletrans,120e3)-levelAt(singletrans,40e3))\n",
    "singletrans160k = '{:.1f}'.format(levelAt(singletrans,160e3)-levelAt(singletrans,40e3))"
   ]
  },
  {
   "cell_type": "markdown",
   "metadata": {},
   "source": [
    "## Single transducer\n",
    "When emitting from a single transducer, the distortion is apparent up to the third harmonic.\n",
    "According to the theory for parametric speakers we would only expect the first harmonic.\n",
    "From this it is clear that it is more distortion from the Ultrahaptics board than from our self-made board.\n",
    "\n",
    "It is also worth noting the noise spread around the carrier from the Ultrahaptics board. \n",
    "This noise will modulate with the carrier to produce audible noise output.\n",
    "\n",
    "Table:  Comparison between the Ultrahaptics board and a single transducer from our self-made board.\n",
    "The values for the harmonics are relative to the carrier level.\n",
    "\n",
    "Frequency  |  UH board                   |  Self-made board    \n",
    "---------  |  --------------             |  ----------------\n",
    "40 kHz     |   {{UH1trans40k}} dB SPL    |    {{singletrans40k}} dB SPL\n",
    "80 kHz     |   {{UH1trans80k}} dB        |    {{singletrans80k}} dB\n",
    "120 kHz    |   {{UH1trans120k}} dB       |    {{singletrans120k}} dB\n",
    "160 kHz    |   {{UH1trans160k}} dB       |    {{singletrans160k}} dB\n"
   ]
  },
  {
   "cell_type": "code",
   "execution_count": null,
   "metadata": {},
   "outputs": [],
   "source": [
    "fIdx = (UH1trans['f']>fMin) & (UH1trans['f']<fMax)\n",
    "plt.plot(UH1trans['f'][fIdx],dB(UH1trans['Spectrum'][fIdx]),label='Ultrahaptics')\n",
    "\n",
    "fIdx = (singletrans['f']>fMin) & (singletrans['f']<fMax)\n",
    "plt.plot(singletrans['f'][fIdx],dB(singletrans['Spectrum'][fIdx]),label='Self-made')\n",
    "\n",
    "plt.legend()\n",
    "plt.title('Single transducer')\n",
    "\n",
    "plt.ylim(ymin=dBmin,ymax=dBmax)\n",
    "plt.ylabel('dB SPL')\n",
    "plt.xlabel('f/Hz')\n",
    "plt.show()"
   ]
  },
  {
   "cell_type": "code",
   "execution_count": null,
   "metadata": {},
   "outputs": [],
   "source": [
    "UH16trans40k = '{:.1f}'.format(levelAt(UH16trans,40e3))\n",
    "UH16trans80k = '{:.1f}'.format(levelAt(UH16trans,80e3)-levelAt(UH16trans,40e3))\n",
    "UH16trans120k = '{:.1f}'.format(levelAt(UH16trans,120e3)-levelAt(UH16trans,40e3))\n",
    "UH16trans160k = '{:.1f}'.format(levelAt(UH16trans,160e3)-levelAt(UH16trans,40e3))\n",
    "proto16trans40k = '{:.1f}'.format(levelAt(proto16trans,40e3))\n",
    "proto16trans80k = '{:.1f}'.format(levelAt(proto16trans,80e3)-levelAt(proto16trans,40e3))\n",
    "proto16trans120k = '{:.1f}'.format(levelAt(proto16trans,120e3)-levelAt(proto16trans,40e3))\n",
    "proto16trans160k = '{:.1f}'.format(levelAt(proto16trans,160e3)-levelAt(proto16trans,40e3))"
   ]
  },
  {
   "cell_type": "markdown",
   "metadata": {},
   "source": [
    "## 16 transducers\n",
    "Using 16 transducers the distortion is present to much higher orders, and the relative levels of the harmonics are higher.\n",
    "The difference between the Ultrahaptics board and out self-made bord is smaller here. This could be due to higher distortion in the audio amplifier.\n",
    "\n",
    "Table:  Comparison between the Ultrahaptics board and 16 transducers from our self-made board.\n",
    "The values for the harmonics are relative to the carrier level.\n",
    "\n",
    "Frequency  |  UH board                   |  Self-made board    \n",
    "---------  |  --------------             |  ----------------\n",
    "40 kHz     |   {{UH16trans40k}} dB SPL    |    {{proto16trans40k}} dB SPL\n",
    "80 kHz     |   {{UH16trans80k}} dB        |    {{proto16trans80k}} dB\n",
    "120 kHz    |   {{UH16trans120k}} dB       |    {{proto16trans120k}} dB\n",
    "160 kHz    |   {{UH16trans160k}} dB       |    {{proto16trans160k}} dB"
   ]
  },
  {
   "cell_type": "code",
   "execution_count": null,
   "metadata": {},
   "outputs": [],
   "source": [
    "fIdx = (UH16trans['f']>fMin) & (UH16trans['f']<fMax)\n",
    "plt.plot(UH16trans['f'][fIdx],dB(UH16trans['Spectrum'][fIdx]),label='Ultrahaptics')\n",
    "\n",
    "fIdx = (proto16trans['f']>fMin) & (proto16trans['f']<fMax)\n",
    "plt.plot(proto16trans['f'][fIdx],dB(proto16trans['Spectrum'][fIdx]),label='Self-made')\n",
    "\n",
    "plt.legend()\n",
    "plt.title('16 transducers')\n",
    "\n",
    "plt.ylim(ymin=dBmin,ymax=dBmax)\n",
    "plt.ylabel('dB SPL')\n",
    "plt.xlabel('f/Hz')\n",
    "plt.show()"
   ]
  },
  {
   "cell_type": "markdown",
   "metadata": {},
   "source": [
    "## Summary\n",
    "- There is more distortion in all measurements than what is expencted from the theory for parametric loudspekers.\n",
    "- It is problematic to know where the distortion is coming from. It could be from the driving signal to the transducer (e.g. harmonics in the square wave or distortion in the amplifier), saturation effects in the transducer, or additional nonlinearities in air.\n",
    "- There is more distortion in the output from the Ultrahaptics board than from our self-made simple board.\n",
    "\n",
    "We cannot see the difference between the internal distortions in the hardware and the distortions from the nonlinearties in air. \n",
    "This makes it problematic to measure and idetify the nonlinerity in air. We would need this in order to design preprocessing methods for the parametric sound.\n",
    "It will also be good to have a deeper knowledge about the nonlinearity in air when combining the different modalities.\n",
    "\n",
    "A related issue is the measurement range. Since we cannot be sure of the exact levels of the higher harmonics, it will not be possible to use single tone measurements to identify the nonlinearities. A workaround for this is to use multiple tones in the ultrasonic range as the input to the transducers, which will modulate and create audible sound. By measuring this audible sound it is in principle possible to identify the nonlinearity.\n",
    "If the input signal is not sufficiently free from distortion, this identification method becomes too complicated to perform in practice.\n",
    "\n",
    "This is the reason that we need more control over the signals driving the transducers, and better understanding of what the board actually outputs given certain input values."
   ]
  }
 ],
 "metadata": {
  "hide_input": false,
  "kernelspec": {
   "display_name": "Python 3",
   "language": "python",
   "name": "python3"
  },
  "language_info": {
   "codemirror_mode": {
    "name": "ipython",
    "version": 3
   },
   "file_extension": ".py",
   "mimetype": "text/x-python",
   "name": "python",
   "nbconvert_exporter": "python",
   "pygments_lexer": "ipython3",
   "version": "3.6.0"
  }
 },
 "nbformat": 4,
 "nbformat_minor": 2
}
