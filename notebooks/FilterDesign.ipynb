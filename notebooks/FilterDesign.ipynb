{
 "cells": [
  {
   "cell_type": "code",
   "execution_count": null,
   "metadata": {
    "collapsed": false
   },
   "outputs": [],
   "source": [
    "import numpy as np\n",
    "import scipy.signal as signal\n",
    "import scipy.integrate\n",
    "import matplotlib.pyplot as plt\n",
    "from scipy.fftpack import fft"
   ]
  },
  {
   "cell_type": "code",
   "execution_count": null,
   "metadata": {
    "collapsed": false
   },
   "outputs": [],
   "source": [
    "fs=193e3\n",
    "fcut=24e3\n",
    "order = 24\n",
    "\n",
    "fmin = fcut/10\n",
    "fmax = np.min([10*fcut,fs/2])\n",
    "\n",
    "lpf = signal.iirfilter(order,fcut/(fs/2),btype='low')\n",
    "w,h = signal.freqz(lpf[0],lpf[1],10000)\n",
    "#w,h = signal.freqz(lpf[0],lpf[1])\n",
    "\n",
    "plt.semilogx(fs*w/(2*np.pi),20*np.log10(np.abs(h)))\n",
    "plt.xlim(12e3,60e3)\n",
    "plt.ylim(-100,10)\n",
    "plt.axvline(x=fcut)\n",
    "plt.axvline(x=40e3)\n",
    "plt.show()\n"
   ]
  },
  {
   "cell_type": "code",
   "execution_count": null,
   "metadata": {
    "collapsed": false
   },
   "outputs": [],
   "source": [
    "n=1024\n",
    "fs=48e3\n",
    "f0=0.5e3\n",
    "sig = np.sin(np.r_[0:n]*2*np.pi*f0/fs)\n",
    "win = signal.tukey(n,2*fs/n/f0,sym=True)\n",
    "\n",
    "plt.plot(sig)\n",
    "plt.plot(win)\n",
    "plt.plot(sig*win)\n",
    "plt.show()"
   ]
  },
  {
   "cell_type": "code",
   "execution_count": null,
   "metadata": {
    "collapsed": false
   },
   "outputs": [],
   "source": [
    "fs = 192e3\n",
    "f0 = 1e3\n",
    "P = 10\n",
    "n = np.ceil(P*fs/f0).astype('int')\n",
    "sig = np.sin(2*np.pi*np.r_[0:n]*f0/fs) + np.sin(2.5*np.pi*np.r_[0:n]*f0/fs)\n",
    "isig = scipy.integrate.cumtrapz(sig,dx=1/fs)\n",
    "isig = np.cumsum(sig)/fs\n",
    "isig = isig - np.mean(isig)\n",
    "iisig = np.cumsum(isig)/fs\n",
    "iisig = iisig - np.mean(iisig)\n",
    "plt.plot(sig)\n",
    "plt.plot(2*np.pi*f0*isig)\n",
    "plt.plot((2*np.pi*f0)**2*iisig)\n",
    "plt.show()"
   ]
  },
  {
   "cell_type": "code",
   "execution_count": null,
   "metadata": {
    "collapsed": false
   },
   "outputs": [],
   "source": [
    "fs = 5e3\n",
    "f0 = 1.133e3\n",
    "P = 1000\n",
    "n = np.ceil(P*fs/f0).astype('int')\n",
    "sig = np.sin(2*np.pi*np.r_[0:n]*f0/fs) + 0.5*np.sin(2.5*np.pi*np.r_[0:n]*f0/fs)\n",
    "spec = fft(sig)/n\n",
    "plt.plot(20*np.log10(np.abs(spec[:(n/2).astype('int')])*2))\n",
    "plt.show()"
   ]
  },
  {
   "cell_type": "code",
   "execution_count": null,
   "metadata": {
    "collapsed": true
   },
   "outputs": [],
   "source": []
  }
 ],
 "metadata": {
  "kernelspec": {
   "display_name": "Python 3",
   "language": "python",
   "name": "python3"
  },
  "language_info": {
   "codemirror_mode": {
    "name": "ipython",
    "version": 3
   },
   "file_extension": ".py",
   "mimetype": "text/x-python",
   "name": "python",
   "nbconvert_exporter": "python",
   "pygments_lexer": "ipython3",
   "version": "3.6.0"
  }
 },
 "nbformat": 4,
 "nbformat_minor": 2
}
