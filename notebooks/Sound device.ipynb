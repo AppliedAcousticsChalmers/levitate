{
 "cells": [
  {
   "cell_type": "code",
   "execution_count": null,
   "metadata": {},
   "outputs": [],
   "source": [
    "import sounddevice as sd\n",
    "import soundfile as sf\n",
    "import queue\n",
    "import threading\n",
    "import numpy as np\n",
    "import matplotlib.pyplot as plt\n",
    "import scipy.signal as signal\n",
    "from scipy.fftpack import fft, ifft, fftfreq\n",
    "\n",
    "dB = lambda x: 20*np.log10(np.abs(x))"
   ]
  },
  {
   "cell_type": "code",
   "execution_count": null,
   "metadata": {},
   "outputs": [],
   "source": [
    "devices = sd.query_devices()\n",
    "for device in devices:\n",
    "    if device['name'] == 'UltraLite-mk4':\n",
    "        sd.default.device = device['name']\n",
    "        sd.default.samplerate = device['default_samplerate']\n",
    "        fs = int(device['default_samplerate'])\n",
    "    "
   ]
  },
  {
   "cell_type": "code",
   "execution_count": null,
   "metadata": {},
   "outputs": [],
   "source": [
    "T = 5\n",
    "n=fs*T\n",
    "t=np.arange(n)/fs\n",
    "f=fftfreq(n,1/fs)\n",
    "fMin = 1\n",
    "fMax = 90e3#f.max()\n",
    "chirp = signal.waveforms.chirp(t,fMin,t[-1],fMax,method='log',phi=-90)"
   ]
  },
  {
   "cell_type": "code",
   "execution_count": null,
   "metadata": {},
   "outputs": [],
   "source": [
    "q = queue.Queue()\n",
    "event = threading.Event()\n",
    "\n",
    "filename = 'rostock_lasVegasTango_short.wav'\n",
    "blocksize = 2048\n",
    "buffers = 24\n",
    "\n",
    "def callback(outdata, frames, time, status):\n",
    "    assert frames == blocksize\n",
    "    if status.output_underflow:      \n",
    "        print('Output underflow: increase blocksize?', file=sys.stderr)\n",
    "        raise sd.CallbackAbort\n",
    "    assert not status\n",
    "    try:\n",
    "        data = q.get_nowait()\n",
    "    except queue.Empty:\n",
    "        print('Buffer is empty: increase buffers?', file=sys.stderr)\n",
    "        raise sd.CallbackAbort\n",
    "    if len(data) < len(outdata):\n",
    "        outdata[:len(data)] = data\n",
    "        outdata[len(data):] = np.zeros((len(outdata) - len(data),1))\n",
    "        raise sd.CallbackStop\n",
    "    else:\n",
    "        outdata[:] = data\n",
    "\n",
    "with sf.SoundFile(filename) as fi:\n",
    "    channels = fi.channels\n",
    "    for _ in range(buffers):\n",
    "        data = fi.buffer_read(blocksize, dtype='float32')\n",
    "        if not data:\n",
    "            break\n",
    "        datanp = np.frombuffer(data,dtype='float32')\n",
    "        datanp.shape = -1, channels\n",
    "        q.put_nowait(datanp)  # Pre-fill queue        \n",
    "    stream = sd.OutputStream(\n",
    "        samplerate=fi.samplerate, blocksize=blocksize, \n",
    "        device='UltraLite-mk4', channels=fi.channels, dtype='float32', \n",
    "        callback=callback, finished_callback=event.set)\n",
    "    with stream:\n",
    "        timeout = blocksize * buffers / fi.samplerate\n",
    "        while data:\n",
    "            data = fi.buffer_read(blocksize, dtype='float32')\n",
    "#            print(len(data))\n",
    "            datanp = np.frombuffer(data,dtype='float32')\n",
    "            datanp.shape = -1, channels\n",
    "#            print(datanp.shape)\n",
    "            q.put(datanp, timeout=timeout)\n",
    "        event.wait()  # Wait until playback is finished"
   ]
  },
  {
   "cell_type": "code",
   "execution_count": null,
   "metadata": {},
   "outputs": [],
   "source": [
    "inQ = queue.Queue()\n",
    "outQ = queue.Queue()\n",
    "event = threading.Event()\n",
    "blocksize = 2048\n",
    "buffers = 24\n",
    "\n",
    "sOut = chirp.astype('float32')\n",
    "totalBlocks = len(sOut) // blocksize\n",
    "        \n",
    "def callback(outdata, frames, time, status):\n",
    "    data = outQ.get_nowait()\n",
    "    if len(data) < len(outdata):\n",
    "        outdata[:len(data)] = data\n",
    "        outdata[len(data):] = np.zeros((len(outdata) - len(data),1))\n",
    "        raise sd.CallbackStop\n",
    "    else:\n",
    "        outdata[:] = data\n",
    "    \n",
    "for outBlock in range(buffers):\n",
    "    data = sOut[outBlock*blocksize:(outBlock+1)*blocksize]\n",
    "    data.shape = -1,1\n",
    "    outQ.put(data)\n",
    "    \n",
    "stream = sd.OutputStream(\n",
    "    samplerate=fs, blocksize=blocksize, \n",
    "    device = 'UltraLite-mk4', channels=1, dtype='float32',\n",
    "    callback=callback, finished_callback=event.set)\n",
    "print(stream.active)\n",
    "with stream: \n",
    "    timeout = blocksize*buffers/fs\n",
    "    for outBlock in range(buffers,totalBlocks):\n",
    "        data = sOut[outBlock*blocksize:(outBlock+1)*blocksize]\n",
    "        data.shape = -1 ,1\n",
    "        outQ.put(data, timeout=timeout)\n",
    "    event.wait()"
   ]
  },
  {
   "cell_type": "code",
   "execution_count": null,
   "metadata": {},
   "outputs": [],
   "source": [
    "sOut = chirp\n",
    "channels = sOut.size//n\n",
    "sIn = sd.playrec(sOut, blocking = True,channels=channels)\n",
    "#sIn = np.reshape(sIn,sOut.shape)"
   ]
  },
  {
   "cell_type": "code",
   "execution_count": null,
   "metadata": {},
   "outputs": [],
   "source": [
    "win = signal.windows.hann(n)\n",
    "win = signal.windows.boxcar(n)\n",
    "SOut = fft(sOut*win,axis=0)/win.sum()\n",
    "SIn = fft(sIn*win,axis=0)/win.sum()\n",
    "fIdx = (f>fMin) & (f<fMax)\n",
    "#fIdx = (f>30e3) & (f<90e3)\n",
    "dBrange = 20\n",
    "\n",
    "H = SIn/SOut\n",
    "H /= np.max(np.abs(H))\n",
    "plt.semilogx(f[fIdx],dB(H[fIdx]))\n",
    "plt.ylim(ymin=-dBrange, ymax=0.5)\n",
    "plt.show()"
   ]
  }
 ],
 "metadata": {
  "kernelspec": {
   "display_name": "Python 3",
   "language": "python",
   "name": "python3"
  },
  "language_info": {
   "codemirror_mode": {
    "name": "ipython",
    "version": 3
   },
   "file_extension": ".py",
   "mimetype": "text/x-python",
   "name": "python",
   "nbconvert_exporter": "python",
   "pygments_lexer": "ipython3",
   "version": "3.6.0"
  }
 },
 "nbformat": 4,
 "nbformat_minor": 2
}
