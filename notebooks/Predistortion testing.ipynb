{
 "cells": [
  {
   "cell_type": "code",
   "execution_count": null,
   "metadata": {},
   "outputs": [],
   "source": [
    "%qtconsole"
   ]
  },
  {
   "cell_type": "code",
   "execution_count": null,
   "metadata": {},
   "outputs": [],
   "source": [
    "import numpy as np\n",
    "from scipy.fftpack import fft, ifft, fftfreq\n",
    "import scipy.signal as signal\n",
    "import matplotlib.pyplot as plt\n",
    "from scipy.interpolate import interp1d\n",
    "from scipy.misc import comb\n",
    "dB = lambda x: 20*np.log10(np.abs(x))"
   ]
  },
  {
   "cell_type": "code",
   "execution_count": null,
   "metadata": {},
   "outputs": [],
   "source": [
    "fs = 1e6\n",
    "nfft = 2**20\n",
    "t = np.arange(n)/fs\n",
    "f = fftfreq(nfft,1/fs)\n",
    "tpi = 2*np.pi\n",
    "\n",
    "sTrans = np.sin(tpi*t*1e3)"
   ]
  },
  {
   "cell_type": "markdown",
   "metadata": {},
   "source": [
    "Define the nonlinearity as a polynomial p with even orders, try to indentify the coefficients from the difference tones, and find the correct predistortion for the modulating signal."
   ]
  },
  {
   "cell_type": "code",
   "execution_count": null,
   "metadata": {},
   "outputs": [],
   "source": [
    "pActual = np.poly1d([0.45,0,0.11,0,0.8,0,0.3,0,0.777,1,0])\n",
    "#pActual = np.poly1d([1,0,1,1,0])\n",
    "#pActual = np.poly1d([0.45,0,0.11,0,0,0,0,0,0,1,0])\n",
    "df=f[1]\n",
    "f0 = (40e3//df)*df\n",
    "f1 = (41e3//df)*df\n",
    "harmonics = pActual.order//2 # In the audible range, corresponds to even order nonlinearities\n",
    "\n",
    "sIn = np.sin(tpi * t * f0) + np.sin(tpi * t * f1)\n",
    "#sIn /= np.max(np.abs(sIn))\n",
    "sOut = pActual(sIn)+sIn\n",
    "SOut = fft(sOut)/nfft\n",
    "fDiff = np.abs(f0-f1)\n",
    "levels = np.zeros(harmonics,dtype=complex)\n",
    "def levelAtFrequency(Sig,fCenter,fWidth):\n",
    "    idx = (fCenter-fWidth < f) & (f < fCenter+fWidth)\n",
    "    inRange = Sig[idx]\n",
    "    maxIdx = np.argmax( np.abs(inRange) ) \n",
    "    #return np.abs(inRange[maxIdx])\n",
    "    return inRange[maxIdx]\n",
    "refLevel = levelAtFrequency(SOut,f0,fDiff/5)\n",
    "\n",
    "for n in range(harmonics):\n",
    "    levels[n] = levelAtFrequency(SOut,(n+1)*fDiff,fDiff/5)/refLevel\n",
    "\n",
    "def audibleLevelFactor(n,h):\n",
    "    if h<1 or 2*h>n or n%2 is not 0:\n",
    "        return 0\n",
    "    else:\n",
    "        return 2/2**n*comb(n,n//2)*comb(n,n//2-h)\n",
    "    \n",
    "pIdent = np.poly1d([1j]) # Needed to keep the polynomial as complex\n",
    "for n in range(harmonics,0,-1):\n",
    "    #print('n: {}'.format(n))\n",
    "    higherContrib = 0\n",
    "    for m in range(n+1,harmonics+1):\n",
    "        higherContrib += pIdent[2*m]*audibleLevelFactor(2*m,n)\n",
    "        #print('\\t m: {:.2f}\\t pIdent[2m]: {:.2f}\\t audFact(2m,n): {:.2f}\\t higherCont: {:.2f}'.\n",
    "        #      format(m,pIdent[2*m],audibleLevelFactor(2*m,n),higherContrib))\n",
    "    pIdent[2*n] = (levels[n-1]-higherContrib)/audibleLevelFactor(2*n,n)\n",
    "\n",
    "pIdent -= 1j\n",
    "pIdent /= np.max(np.abs(pIdent))\n",
    "\n",
    "print('Actual nonlinearity is \\n{}'.format(pActual))\n",
    "print('Identified nonlinearity is \\n{}'.format(pIdent))"
   ]
  },
  {
   "cell_type": "markdown",
   "metadata": {},
   "source": [
    "Note that the factor in the highest level audible harmonic for a given order (n,n/2) is the same factor that should be used for the polynomial to invert! This can be used as a justification somehow."
   ]
  },
  {
   "cell_type": "code",
   "execution_count": null,
   "metadata": {},
   "outputs": [],
   "source": [
    "def findToInvert(pActual):\n",
    "    pToInvert = np.poly1d([])\n",
    "    fraction=2\n",
    "    for n in range(2,pActual.order+1,2): # +1 to get inclusive\n",
    "        fraction*= (n-1)/n\n",
    "        pToInvert[n] = pActual[n]*fraction\n",
    "    return pToInvert\n",
    "\n",
    "#pActual = np.poly1d([1,0,1,0,1,0])\n",
    "#pToInvert = np.poly1d([0.4921875,0,0.546875,0,0.625,0,0.75,0,1,0,0])\n",
    "\n",
    "\n",
    "pToInvert = findToInvert(pActual)\n",
    "print('Actual nonlinearity is \\n{}'.format(pActual))\n",
    "print('ToInverting nonlinearity is is \\n{}'.format(pToInvert))\n",
    "x = np.linspace(0,2,10000)\n",
    "y = pToInvert(x)\n",
    "pInv = interp1d(y,x)\n",
    "#pinv = lambda x: x**0.5\n",
    "win = signal.windows.tukey(n,0.1)\n",
    "env = pInv(1+0.95*sTrans)\n",
    "mod = env*np.sin(tpi*t*40e3)\n",
    "#mod = np.real( np.exp(signal.hilbert(np.log(env))) * np.exp(1j*tpi*t*40e3) )\n",
    "\n",
    "demod = pActual(mod)\n",
    "Demod = fft(demod)/n\n",
    "#Demod /= np.max(np.abs(Demod))\n"
   ]
  },
  {
   "cell_type": "code",
   "execution_count": null,
   "metadata": {},
   "outputs": [],
   "source": [
    "fMin = 1e3\n",
    "fMax = 5e3\n",
    "exclude = np.r_[39e3,40e3,41e3]\n",
    "#exclude = np.r_[1e3]\n",
    "\n",
    "idx = (f>fMin-0.5e3) & (f<fMax+0.5e3)\n",
    "plt.plot(f[idx],dB(Demod[idx]))\n",
    "plt.show()\n",
    "\n",
    "THD = 0\n",
    "for fc in np.arange(fMin,fMax+1,1e3):\n",
    "    if  any( (ex>fc-0.2e3) & (ex<fc+0.2e3) for ex in exclude):\n",
    "        continue\n",
    "    #print(fc)\n",
    "    idx = (f>fc-0.2e3) & (f<fc+0.2e3)\n",
    "    THD += np.max( np.abs(Demod[idx]))\n",
    "fc=40e3\n",
    "idx = (f>fc-0.2e3) & (f<fc+0.2e3)\n",
    "THD /= np.max( np.abs(Demod[idx]))\n",
    "print('THD: {:.2e}'.format(THD))\n",
    "\n"
   ]
  },
  {
   "cell_type": "code",
   "execution_count": null,
   "metadata": {},
   "outputs": [],
   "source": []
  }
 ],
 "metadata": {
  "kernelspec": {
   "display_name": "Python 3",
   "language": "python",
   "name": "python3"
  },
  "language_info": {
   "codemirror_mode": {
    "name": "ipython",
    "version": 3
   },
   "file_extension": ".py",
   "mimetype": "text/x-python",
   "name": "python",
   "nbconvert_exporter": "python",
   "pygments_lexer": "ipython3",
   "version": "3.6.0"
  }
 },
 "nbformat": 4,
 "nbformat_minor": 2
}
