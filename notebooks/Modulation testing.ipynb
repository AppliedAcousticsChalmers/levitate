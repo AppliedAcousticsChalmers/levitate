{
 "cells": [
  {
   "cell_type": "code",
   "execution_count": null,
   "metadata": {
    "collapsed": true
   },
   "outputs": [],
   "source": [
    "import numpy as np\n",
    "from scipy.fftpack import fft, ifft, fftfreq, hilbert\n",
    "from scipy import signal\n",
    "from scipy.signal import hilbert as analytic\n",
    "import matplotlib.pyplot as plt\n",
    "import mpld3\n",
    "from mpld3 import plugins\n",
    "#mpl.style.use('default')\n",
    "#mpl.rcParams['text.color'] = 'w'"
   ]
  },
  {
   "cell_type": "code",
   "execution_count": null,
   "metadata": {
    "collapsed": true
   },
   "outputs": [],
   "source": [
    "fc = 40e3\n",
    "f0 = 1e3\n",
    "fs = 200e3\n",
    "\n",
    "db = lambda x: 20*np.log10(np.abs(x))\n",
    "periods = 10\n",
    "nsamples = np.ceil(periods *fs/f0).astype('int')\n",
    "t=np.arange(nsamples)/fs\n",
    "f = fftfreq(nsamples,1/fs)\n",
    "carrier = np.exp(1j*2*np.pi*fc*t)\n",
    "audio = np.sin(2*np.pi*f0*t)#+0.7*np.sin(4*np.pi*f0*t)+0.5*np.sin(6*np.pi*f0*t)+0.3*np.sin(8*np.pi*f0*t)+0.1*np.sin(10*np.pi*f0*t)\n",
    "audio /= np.max(np.abs(audio))"
   ]
  },
  {
   "cell_type": "markdown",
   "metadata": {},
   "source": [
    "The square root in the envelope calculation will introduce an infinite number of harmonics in the envelope spectrum. \n",
    "If we modulate the carriwe with the bare envelope we will introcduce a lot of harmonics in the signal. This cannot be reproduced in a trancduser with a small bandwidth."
   ]
  },
  {
   "cell_type": "code",
   "execution_count": null,
   "metadata": {
    "collapsed": false
   },
   "outputs": [],
   "source": [
    "envelope = np.sqrt(1+0.95*audio)\n",
    "envelope_spectrum = fft(envelope)\n",
    "modulated = envelope*carrier.real\n",
    "modulated_spectrum = fft(modulated)\n",
    "\n",
    "fig, ax = plt.subplots(1,2)\n",
    "ax[0].plot(f,db(envelope_spectrum))\n",
    "ax[1].plot(f,db(modulated_spectrum))\n",
    "mpld3.display()"
   ]
  },
  {
   "cell_type": "markdown",
   "metadata": {
    "collapsed": false
   },
   "source": [
    "If we create the analytic signal of the envelope as \n",
    "$$m_a(t) = m(t) + j\\mathcal{H}\\{m(t)\\} $$\n",
    "we will obtain only sidebands on one side of the carrier."
   ]
  },
  {
   "cell_type": "code",
   "execution_count": null,
   "metadata": {
    "collapsed": false
   },
   "outputs": [],
   "source": [
    "analytic = envelope + 1j*hilbert(envelope)\n",
    "modulated = np.real(analytic * carrier)\n",
    "analytic_spectrum = fft(analytic)\n",
    "modulated_spectrum = fft(modulated)\n",
    "\n",
    "fig, ax = plt.subplots(1,2)\n",
    "ax[0].plot(f,db(analytic_spectrum))\n",
    "ax[1].plot(f,db(modulated_spectrum))\n",
    "mpld3.display()"
   ]
  },
  {
   "cell_type": "markdown",
   "metadata": {},
   "source": [
    "If we instead study the case when the modulation has been moved to the exponent, as\n",
    "$$ y(t) = e^{\\log(m(t))} e^{j\\omega t} $$\n",
    "we cad add a pure phase shift as \n",
    "$$ y(t) = e^{\\log(m(t))} e^{j\\phi(t)} e^{j\\omega t} $$\n",
    "If the phase shift $\\phi$ is chosen to create an analytic signal, i.e.\n",
    "$$ \\phi(t) = \\mathcal{H}\\{\\log(m(t))\\} $$\n",
    "we see that the new modulation is given by\n",
    "$$ \\tilde m = e^{ \\log(m) +j\\mathcal{H}\\{\\log(m)\\} }  = m(t) e^{j\\mathcal{H}\\{\\log(m(t))\\} } $$\n",
    "This technique was first introduced by Powers (1960) and explaned in an overview by Bedrosian (1962) as exponential or envelope modulation.\n",
    "If we define $g(t) = \\alpha \\log f(t) $ where $f(t)$ is the nonnegative signal 1+audio, and modulate with the factor \n",
    "$$m(t) = e^{g(t)+j\\mathcal{H}\\{g(t)\\}} $$\n",
    "it can be showh that the envelope of the carrier (magnitude of the analytic carrier) will be proportional to $f^\\alpha$. Since we want an envelope proportional to the square root of the audio signal, we choose $\\alpha = 1/2$. This formalism reqires that the carrier is represented in the complex (analytic) domain."
   ]
  },
  {
   "cell_type": "code",
   "execution_count": null,
   "metadata": {
    "collapsed": false
   },
   "outputs": [],
   "source": [
    "logsignal = np.log(1+0.95*audio)/2\n",
    "explog = np.exp(logsignal + 1j*hilbert(logsignal))\n",
    "modulated = explog*carrier\n",
    "explog_spectrum = fft(explog)\n",
    "modulated_spectrum = fft(modulated)\n",
    "fig, ax = plt.subplots(1,2)\n",
    "ax[0].plot(f,db(explog_spectrum))\n",
    "ax[1].plot(f,db(modulated_spectrum))\n",
    "mpld3.display()"
   ]
  },
  {
   "cell_type": "code",
   "execution_count": null,
   "metadata": {
    "collapsed": false
   },
   "outputs": [],
   "source": [
    "%qtconsole"
   ]
  }
 ],
 "metadata": {
  "kernelspec": {
   "display_name": "Python 3",
   "language": "python",
   "name": "python3"
  },
  "language_info": {
   "codemirror_mode": {
    "name": "ipython",
    "version": 3
   },
   "file_extension": ".py",
   "mimetype": "text/x-python",
   "name": "python",
   "nbconvert_exporter": "python",
   "pygments_lexer": "ipython3",
   "version": "3.6.0"
  }
 },
 "nbformat": 4,
 "nbformat_minor": 2
}
