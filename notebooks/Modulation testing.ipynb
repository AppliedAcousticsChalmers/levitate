{
 "cells": [
  {
   "cell_type": "code",
   "execution_count": null,
   "metadata": {},
   "outputs": [],
   "source": [
    "import numpy as np\n",
    "from scipy.fftpack import fft, ifft, fftfreq, hilbert\n",
    "from scipy import signal\n",
    "from scipy.signal import hilbert as analytic\n",
    "import matplotlib.pyplot as plt\n",
    "import mpld3\n",
    "from mpld3 import plugins\n",
    "mpl.style.use('monokai')\n",
    "#mpl.style.use('default')\n",
    "#mpl.rcParams['text.color'] = 'black'"
   ]
  },
  {
   "cell_type": "code",
   "execution_count": null,
   "metadata": {},
   "outputs": [],
   "source": [
    "fc = 40e3\n",
    "f0 = 1e3\n",
    "fs = 1e6\n",
    "\n",
    "db = lambda x: 20*np.log10(np.abs(x))\n",
    "periods = 100\n",
    "nsamples = np.ceil(periods *fs/f0).astype('int')\n",
    "t=np.arange(nsamples)/fs\n",
    "f = fftfreq(nsamples,1/fs)\n",
    "carrier = np.exp(1j*2*np.pi*fc*t)\n",
    "audio = np.sin(2*np.pi*f0*t)#+0.7*np.sin(4*np.pi*f0*t)+0.5*np.sin(6*np.pi*f0*t)+0.3*np.sin(8*np.pi*f0*t)+0.1*np.sin(10*np.pi*f0*t)\n",
    "audio /= np.max(np.abs(audio))"
   ]
  },
  {
   "cell_type": "markdown",
   "metadata": {},
   "source": [
    "Normal AM modulation gives a reproducable transducer output, but the demodulated signal will contain harmonics."
   ]
  },
  {
   "cell_type": "code",
   "execution_count": null,
   "metadata": {},
   "outputs": [],
   "source": [
    "envelope = 1+0.95*audio\n",
    "modulated_simple = envelope*carrier.real\n",
    "modulated_simple_spectrum = fft(modulated_simple)/nsamples\n",
    "demodulated_simple = np.abs(analytic(modulated_simple))**2\n",
    "demodulated_simple_spectrum = fft(demodulated_simple)/nsamples\n",
    "\n",
    "plt.plot(f,db(modulated_simple_spectrum))\n",
    "plt.xlim((30e3, 50e3))\n",
    "plt.ylim((-60,0))\n",
    "plt.show()\n",
    "plt.plot(f,db(demodulated_simple_spectrum))\n",
    "plt.xlim((0,5e3))\n",
    "plt.ylim((-60,5))\n",
    "plt.show()"
   ]
  },
  {
   "cell_type": "markdown",
   "metadata": {},
   "source": [
    "Using a square root in the envelope calculation will in theory give a perfect demodulated output.\n",
    "However, the trancducer output will contain too many harmonics to reproduce. If this is simulated with a simple bandpass filter we can see the harmonics in the demodulated output."
   ]
  },
  {
   "cell_type": "code",
   "execution_count": null,
   "metadata": {},
   "outputs": [],
   "source": [
    "envelope = np.sqrt(1+0.95*audio)\n",
    "modulated_sqrt = envelope*carrier.real\n",
    "bpf = signal.iirfilter(2,[39e3/fs*2, 41e3/fs*2],output='sos')\n",
    "modulated_sqrt = signal.sosfilt(bpf, modulated_sqrt)\n",
    "modulated_sqrt_spectrum = fft(modulated_sqrt)/nsamples\n",
    "demodulated_sqrt = np.abs(analytic(modulated_sqrt))**2\n",
    "demodulated_sqrt_spectrum = fft(demodulated_sqrt)/nsamples\n",
    "\n",
    "plt.plot(f,db(modulated_sqrt_spectrum))\n",
    "plt.xlim((30e3, 50e3))\n",
    "plt.ylim((-60,0))\n",
    "plt.show()\n",
    "plt.plot(f,db(demodulated_sqrt_spectrum))\n",
    "plt.xlim((0,5e3))\n",
    "plt.ylim((-60,0))\n",
    "plt.show()"
   ]
  },
  {
   "cell_type": "markdown",
   "metadata": {},
   "source": [
    "If we create the analytic signal of the envelope as \n",
    "$$m_a(t) = m(t) + j\\mathcal{H}\\{m(t)\\} $$\n",
    "we will obtain only sidebands on one side of the carrier, but the demodulated output is not good anymore."
   ]
  },
  {
   "cell_type": "code",
   "execution_count": null,
   "metadata": {},
   "outputs": [],
   "source": [
    "modulated_analytic = np.real(analytic(envelope) * carrier)\n",
    "modulated_analytic_spectrum = fft(modulated_analytic)/nsamples\n",
    "demodulated_analytic = np.abs(analytic(modulated_analytic))**2\n",
    "demodulated_analytic_spectrum = fft(demodulated_analytic)/nsamples\n",
    "\n",
    "plt.plot(f,db(modulated_analytic_spectrum))\n",
    "plt.xlim((30e3, 50e3))\n",
    "plt.ylim((-60,0))\n",
    "plt.show()\n",
    "plt.plot(f,db(demodulated_analytic_spectrum))\n",
    "plt.xlim((0,5e3))\n",
    "plt.ylim((-60,0))\n",
    "plt.show()"
   ]
  },
  {
   "cell_type": "markdown",
   "metadata": {},
   "source": [
    "If we instead study the case when the modulation has been moved to the exponent, as\n",
    "$$ y(t) = e^{\\log(m(t))} e^{j\\omega t} $$\n",
    "we cad add a pure phase shift as \n",
    "$$ y(t) = e^{\\log(m(t))} e^{j\\phi(t)} e^{j\\omega t} $$\n",
    "If the phase shift $\\phi$ is chosen to create an analytic signal, i.e.\n",
    "$$ \\phi(t) = \\mathcal{H}\\{\\log(m(t))\\} $$\n",
    "we see that the new modulation is given by\n",
    "$$ \\tilde m = e^{ \\log(m) +j\\mathcal{H}\\{\\log(m)\\} }  = m(t) e^{j\\mathcal{H}\\{\\log(m(t))\\} } $$\n",
    "This technique was first introduced by Powers (1960) and explaned in an overview by Bedrosian (1962) as exponential or envelope modulation.\n",
    "If we define $g(t) = \\alpha \\log f(t) $ where $f(t)$ is the nonnegative signal 1+audio, and modulate with the factor \n",
    "$$m(t) = e^{g(t)+j\\mathcal{H}\\{g(t)\\}} $$\n",
    "it can be showh that the envelope of the carrier (magnitude of the analytic carrier) will be proportional to $f^\\alpha$. Since we want an envelope proportional to the square root of the audio signal, we choose $\\alpha = 1/2$. This formalism reqires that the carrier is represented in the complex (analytic) domain."
   ]
  },
  {
   "cell_type": "code",
   "execution_count": null,
   "metadata": {},
   "outputs": [],
   "source": [
    "logsignal = np.log(1+0.95*audio)/2\n",
    "explog = np.exp(analytic(logsignal))\n",
    "modulated_exponential = signal.sosfilt(bpf, (explog*carrier).real)\n",
    "modulated_exponential_spectrum = fft(modulated_exponential)/nsamples\n",
    "demodulated_exponential = np.abs(analytic(modulated_exponential))**2\n",
    "demodulated_exponential_spectrum = fft(demodulated_exponential)/nsamples\n",
    "\n",
    "plt.plot(f,db(modulated_exponential_spectrum))\n",
    "plt.xlim((30e3, 50e3))\n",
    "plt.ylim((-60,0))\n",
    "plt.show()\n",
    "plt.plot(f,db(demodulated_exponential_spectrum))\n",
    "plt.xlim((0,5e3))\n",
    "plt.ylim((-60,0))\n",
    "plt.show()"
   ]
  },
  {
   "cell_type": "code",
   "execution_count": null,
   "metadata": {},
   "outputs": [],
   "source": [
    "fig, ax = plt.subplots(3, 2, sharey=True, sharex='col')\n",
    "fig.subplots_adjust(hspace=0)\n",
    "fig.subplots_adjust(wspace=0.05)\n",
    "\n",
    "ax[0,0].plot(f,db(modulated_simple_spectrum))\n",
    "ax[0,1].plot(f,db(demodulated_simple_spectrum))\n",
    "ax[1][0].plot(f,db(modulated_sqrt_spectrum))\n",
    "ax[1][1].plot(f,db(demodulated_sqrt_spectrum))\n",
    "ax[2][0].plot(f,db(modulated_exponential_spectrum))\n",
    "ax[2][1].plot(f,db(demodulated_exponential_spectrum))\n",
    "\n",
    "#plt.setp(ax[0,0].get_xticklabels(), visible=False)\n",
    "\n",
    "ax[0,0].set_title('Transducer signal')\n",
    "ax[0,1].set_title('Audible signal')\n",
    "\n",
    "ax[0,0].set_xlim((35e3,45e3))\n",
    "#ax[0,0].set_ylim((0, 65))\n",
    "ax[0,1].set_xlim((10, 5e3))\n",
    "ax[0,1].set_ylim((-60, 5))\n",
    "\n",
    "ax[0,1].set_ylabel('Simple',rotation=-90, labelpad=15)\n",
    "ax[0,1].yaxis.set_label_position(\"right\")\n",
    "ax[1,1].set_ylabel('Square root',rotation=-90, labelpad=15)\n",
    "ax[1,1].yaxis.set_label_position(\"right\")\n",
    "ax[2,1].set_ylabel('Exponential',rotation=-90, labelpad=15)\n",
    "ax[2,1].yaxis.set_label_position(\"right\")\n",
    "\n",
    "ax[0,0].set_ylabel('dB')\n",
    "ax[1,0].set_ylabel('dB')\n",
    "ax[2,0].set_ylabel('dB')\n",
    "\n",
    "ax[2,0].set_xlabel('Frequency in Hz')\n",
    "ax[2,1].set_xlabel('Frequency in Hz')\n",
    "\n",
    "\n",
    "plt.show()"
   ]
  }
 ],
 "metadata": {
  "kernelspec": {
   "display_name": "Python 3",
   "language": "python",
   "name": "python3"
  },
  "language_info": {
   "codemirror_mode": {
    "name": "ipython",
    "version": 3
   },
   "file_extension": ".py",
   "mimetype": "text/x-python",
   "name": "python",
   "nbconvert_exporter": "python",
   "pygments_lexer": "ipython3",
   "version": "3.6.1"
  }
 },
 "nbformat": 4,
 "nbformat_minor": 2
}
