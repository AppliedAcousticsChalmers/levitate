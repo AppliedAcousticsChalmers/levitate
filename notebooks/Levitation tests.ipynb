{
 "cells": [
  {
   "cell_type": "code",
   "execution_count": null,
   "metadata": {},
   "outputs": [],
   "source": [
    "import numpy as np\n",
    "import matplotlib.pyplot as plt\n",
    "import levitate\n",
    "from importlib import reload\n",
    "\n",
    "%load_ext snakeviz\n",
    "%load_ext line_profiler\n",
    "\n",
    "levitate.logger.setLevel(levitate.logging.WARNING)\n",
    "levitate.logger.addHandler(levitate.logging.FileHandler('Optim.log', mode='w'))\n",
    "levitate.logger.propagate = False"
   ]
  },
  {
   "cell_type": "code",
   "execution_count": null,
   "metadata": {},
   "outputs": [],
   "source": [
    "transducer = levitate.models.CircularRing(effective_radius=2.9e-3, freq=40e3)\n",
    "array = levitate.models.TransducerArray(transducer_model=transducer)"
   ]
  },
  {
   "cell_type": "code",
   "execution_count": null,
   "metadata": {},
   "outputs": [],
   "source": [
    "loc = np.array([30e-3, 0, 0.2])\n",
    "optim = levitate.optimization.Optimizer(array)\n",
    "gorkov_1 = levitate.optimization.gorkov_laplacian(array=array, location=loc, weights=(1e-3, 1, 1, 1))\n",
    "optim.add_objective(gorkov_1, 1)"
   ]
  },
  {
   "cell_type": "code",
   "execution_count": null,
   "metadata": {},
   "outputs": [],
   "source": [
    "starting_phase = np.random.uniform(-np.pi, np.pi, array.num_transducers)\n",
    "array.phases = starting_phase\n",
    "array.amplitudes = 0.1*np.ones(array.num_transducers)"
   ]
  },
  {
   "cell_type": "code",
   "execution_count": null,
   "metadata": {},
   "outputs": [],
   "source": [
    "optim.basinhopping = False\n",
    "optim.variable_amplitudes = True\n",
    "# %timeit optim.func_and_jac(array.phases)\n",
    "# %snakeviz optim()\n",
    "# %lprun -f optim.func_and_jac optim()\n",
    "optim()\n",
    "array.phases = np.mod(optim.phases + np.pi,2*np.pi)-np.pi\n",
    "array.amplitudes = optim.amplitudes"
   ]
  },
  {
   "cell_type": "code",
   "execution_count": null,
   "metadata": {},
   "outputs": [],
   "source": [
    "plot_loc = loc\n",
    "p_scale = lambda p: 20*np.log10(np.abs(p)) + 94\n",
    "p_range = (140, 160)\n",
    "\n",
    "resolution = array.wavelength/15\n",
    "xz_mesh = np.meshgrid(np.arange(-0.1, 0.1, resolution), np.arange(0, 0.3, resolution), indexing='ij')\n",
    "pressures_xz = np.squeeze(array.calculate_pressure((xz_mesh[0], plot_loc[1]*np.ones_like(xz_mesh[0]), xz_mesh[1])))\n",
    "\n",
    "fig = plt.figure()\n",
    "plt.pcolormesh(xz_mesh[0], xz_mesh[1], p_scale(pressures_xz))\n",
    "plt.xlabel('x')\n",
    "plt.ylabel('z')\n",
    "plt.clim(p_range)\n",
    "plt.colorbar()\n",
    "plt.plot(loc[0], loc[2], color='red', marker='o', markerfacecolor='red')\n",
    "fig.show()"
   ]
  },
  {
   "cell_type": "code",
   "execution_count": null,
   "metadata": {},
   "outputs": [],
   "source": [
    "fig = plt.figure()\n",
    "plt.scatter(array.transducer_positions[:,0], array.transducer_positions[:,1], c=array.phases/np.pi, s=144, cmap='hsv')\n",
    "plt.colorbar()\n",
    "plt.title('Phase')\n",
    "fig.show()\n",
    "\n",
    "fig = plt.figure()\n",
    "plt.scatter(array.transducer_positions[:,0], array.transducer_positions[:,1], c=array.amplitudes, s=144)\n",
    "plt.colorbar()\n",
    "plt.title('Amplitude')\n",
    "fig.show()\n",
    "plt.show()"
   ]
  }
 ],
 "metadata": {
  "kernelspec": {
   "display_name": "Python 3",
   "language": "python",
   "name": "python3"
  },
  "language_info": {
   "codemirror_mode": {
    "name": "ipython",
    "version": 3
   },
   "file_extension": ".py",
   "mimetype": "text/x-python",
   "name": "python",
   "nbconvert_exporter": "python",
   "pygments_lexer": "ipython3",
   "version": "3.6.4"
  }
 },
 "nbformat": 4,
 "nbformat_minor": 2
}
