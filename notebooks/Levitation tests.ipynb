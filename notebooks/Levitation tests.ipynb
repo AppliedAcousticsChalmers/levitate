{
 "cells": [
  {
   "cell_type": "code",
   "execution_count": null,
   "metadata": {},
   "outputs": [],
   "source": [
    "import numpy as np\n",
    "import matplotlib.pyplot as plt\n",
    "\n",
    "import cProfile\n",
    "\n",
    "import sys\n",
    "sys.path.insert(0, '..')\n",
    "%load_ext autoreload\n",
    "%autoreload 2\n",
    "from levitate import array_model"
   ]
  },
  {
   "cell_type": "code",
   "execution_count": null,
   "metadata": {},
   "outputs": [],
   "source": [
    "focus = np.array([0, 0, 0.15])\n",
    "array = array_model.transducer_array()\n",
    "array.set_focus(focus)\n",
    "\n",
    "optim = array_model.gorkov_optimizer(array)\n",
    "optim.run()\n",
    "\n"
   ]
  },
  {
   "cell_type": "code",
   "execution_count": null,
   "metadata": {},
   "outputs": [],
   "source": [
    "x,y,z = np.meshgrid(\n",
    "    np.linspace(-0.1,0.1,201), \n",
    "    np.linspace(-0.1,0.1,201), \n",
    "    np.linspace(0,0.3,100), indexing='ij')\n",
    "\n",
    "zidx = np.argmin(np.abs(z[0,0,:] - focus[2]))\n",
    "yidx = np.argmin(np.abs(y[0,:,0] - focus[1]))\n",
    "\n",
    "pressures_xy = np.squeeze(array.calculate_pressure((x[:,:,zidx], y[:,:,zidx], z[:,:,zidx])))\n",
    "pressures_xz = np.squeeze(array.calculate_pressure((x[:,yidx,:], y[:,yidx,:], z[:,yidx,:])))\n",
    "\n",
    "plt.pcolormesh(x[:,:,zidx], y[:,:,zidx], np.abs(pressures_xy))\n",
    "plt.xlabel('x')\n",
    "plt.ylabel('y')\n",
    "plt.colorbar()\n",
    "plt.show()\n",
    "\n",
    "plt.pcolormesh(x[:,yidx,:], z[:,yidx,:], np.abs(pressures_xz))\n",
    "plt.xlabel('x')\n",
    "plt.ylabel('z')\n",
    "plt.colorbar()\n",
    "plt.show()"
   ]
  }
 ],
 "metadata": {
  "kernelspec": {
   "display_name": "Python 3",
   "language": "python",
   "name": "python3"
  },
  "language_info": {
   "codemirror_mode": {
    "name": "ipython",
    "version": 3
   },
   "file_extension": ".py",
   "mimetype": "text/x-python",
   "name": "python",
   "nbconvert_exporter": "python",
   "pygments_lexer": "ipython3",
   "version": "3.6.1"
  }
 },
 "nbformat": 4,
 "nbformat_minor": 2
}
